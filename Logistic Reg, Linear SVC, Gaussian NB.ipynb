{
 "cells": [
  {
   "cell_type": "markdown",
   "metadata": {},
   "source": [
    "# Logisitic Regression, Linear SVC, Gaussian Naive Bayes"
   ]
  },
  {
   "cell_type": "markdown",
   "metadata": {},
   "source": [
    "### Reading in the Data"
   ]
  },
  {
   "cell_type": "code",
   "execution_count": 76,
   "metadata": {},
   "outputs": [],
   "source": [
    "import pipeline as pl\n",
    "import imp\n",
    "\n",
    "import pandas as pd\n",
    "import numpy as np\n",
    "import random\n",
    "import time\n",
    "\n",
    "from sklearn import metrics\n",
    "from sklearn.model_selection import train_test_split\n",
    "from sklearn.linear_model import LinearRegression\n",
    "from sklearn.preprocessing import StandardScaler\n",
    "from sklearn.model_selection import KFold, cross_val_score\n",
    "from sklearn.linear_model import LogisticRegression\n",
    "from sklearn.svm import LinearSVC\n",
    "from sklearn.naive_bayes import GaussianNB\n",
    "from sklearn.metrics import accuracy_score\n",
    "import datetime\n",
    "\n",
    "import matplotlib.pyplot as plt\n",
    "import seaborn as sns"
   ]
  },
  {
   "cell_type": "code",
   "execution_count": 77,
   "metadata": {},
   "outputs": [],
   "source": [
    "imp.reload(pl)\n",
    "claims = pl.read_all()"
   ]
  },
  {
   "cell_type": "code",
   "execution_count": 78,
   "metadata": {},
   "outputs": [
    {
     "data": {
      "text/html": [
       "<div>\n",
       "<style scoped>\n",
       "    .dataframe tbody tr th:only-of-type {\n",
       "        vertical-align: middle;\n",
       "    }\n",
       "\n",
       "    .dataframe tbody tr th {\n",
       "        vertical-align: top;\n",
       "    }\n",
       "\n",
       "    .dataframe thead th {\n",
       "        text-align: right;\n",
       "    }\n",
       "</style>\n",
       "<table border=\"1\" class=\"dataframe\">\n",
       "  <thead>\n",
       "    <tr style=\"text-align: right;\">\n",
       "      <th></th>\n",
       "      <th>reimb2010</th>\n",
       "      <th>reimb2008</th>\n",
       "      <th>reimb2009</th>\n",
       "      <th>age2010</th>\n",
       "      <th>male</th>\n",
       "      <th>heart.failure</th>\n",
       "      <th>kidney</th>\n",
       "      <th>cancer</th>\n",
       "      <th>copd</th>\n",
       "      <th>depression</th>\n",
       "      <th>...</th>\n",
       "      <th>acuity</th>\n",
       "      <th>costTrend</th>\n",
       "      <th>monthsWithClaims</th>\n",
       "      <th>race_Black</th>\n",
       "      <th>race_Hispanic</th>\n",
       "      <th>race_Other</th>\n",
       "      <th>race_White</th>\n",
       "      <th>log(reimb2010+1)</th>\n",
       "      <th>log(reimb2009+1)</th>\n",
       "      <th>log(reimb2008+1)</th>\n",
       "    </tr>\n",
       "  </thead>\n",
       "  <tbody>\n",
       "    <tr>\n",
       "      <th>0</th>\n",
       "      <td>390</td>\n",
       "      <td>320.0</td>\n",
       "      <td>360</td>\n",
       "      <td>97</td>\n",
       "      <td>0</td>\n",
       "      <td>0</td>\n",
       "      <td>0</td>\n",
       "      <td>0</td>\n",
       "      <td>0</td>\n",
       "      <td>0</td>\n",
       "      <td>...</td>\n",
       "      <td>0.235294</td>\n",
       "      <td>-0.018856</td>\n",
       "      <td>9</td>\n",
       "      <td>0</td>\n",
       "      <td>0</td>\n",
       "      <td>0</td>\n",
       "      <td>1</td>\n",
       "      <td>2.592177</td>\n",
       "      <td>2.557507</td>\n",
       "      <td>2.506505</td>\n",
       "    </tr>\n",
       "    <tr>\n",
       "      <th>1</th>\n",
       "      <td>970</td>\n",
       "      <td>58800.0</td>\n",
       "      <td>2740</td>\n",
       "      <td>79</td>\n",
       "      <td>0</td>\n",
       "      <td>1</td>\n",
       "      <td>1</td>\n",
       "      <td>0</td>\n",
       "      <td>1</td>\n",
       "      <td>0</td>\n",
       "      <td>...</td>\n",
       "      <td>0.853591</td>\n",
       "      <td>-0.027265</td>\n",
       "      <td>21</td>\n",
       "      <td>0</td>\n",
       "      <td>0</td>\n",
       "      <td>0</td>\n",
       "      <td>1</td>\n",
       "      <td>2.987219</td>\n",
       "      <td>3.437909</td>\n",
       "      <td>4.769385</td>\n",
       "    </tr>\n",
       "    <tr>\n",
       "      <th>2</th>\n",
       "      <td>5630</td>\n",
       "      <td>510.0</td>\n",
       "      <td>1580</td>\n",
       "      <td>87</td>\n",
       "      <td>0</td>\n",
       "      <td>1</td>\n",
       "      <td>0</td>\n",
       "      <td>0</td>\n",
       "      <td>0</td>\n",
       "      <td>0</td>\n",
       "      <td>...</td>\n",
       "      <td>0.175115</td>\n",
       "      <td>0.496742</td>\n",
       "      <td>20</td>\n",
       "      <td>0</td>\n",
       "      <td>0</td>\n",
       "      <td>0</td>\n",
       "      <td>1</td>\n",
       "      <td>3.750586</td>\n",
       "      <td>3.198932</td>\n",
       "      <td>2.708421</td>\n",
       "    </tr>\n",
       "    <tr>\n",
       "      <th>3</th>\n",
       "      <td>3480</td>\n",
       "      <td>2930.0</td>\n",
       "      <td>49330</td>\n",
       "      <td>79</td>\n",
       "      <td>0</td>\n",
       "      <td>1</td>\n",
       "      <td>1</td>\n",
       "      <td>0</td>\n",
       "      <td>1</td>\n",
       "      <td>1</td>\n",
       "      <td>...</td>\n",
       "      <td>0.709147</td>\n",
       "      <td>0.214955</td>\n",
       "      <td>19</td>\n",
       "      <td>0</td>\n",
       "      <td>0</td>\n",
       "      <td>0</td>\n",
       "      <td>1</td>\n",
       "      <td>3.541704</td>\n",
       "      <td>4.693120</td>\n",
       "      <td>3.467016</td>\n",
       "    </tr>\n",
       "    <tr>\n",
       "      <th>4</th>\n",
       "      <td>920</td>\n",
       "      <td>1500.0</td>\n",
       "      <td>1650</td>\n",
       "      <td>85</td>\n",
       "      <td>1</td>\n",
       "      <td>1</td>\n",
       "      <td>0</td>\n",
       "      <td>1</td>\n",
       "      <td>0</td>\n",
       "      <td>0</td>\n",
       "      <td>...</td>\n",
       "      <td>0.174603</td>\n",
       "      <td>0.231568</td>\n",
       "      <td>21</td>\n",
       "      <td>0</td>\n",
       "      <td>0</td>\n",
       "      <td>0</td>\n",
       "      <td>1</td>\n",
       "      <td>2.964260</td>\n",
       "      <td>3.217747</td>\n",
       "      <td>3.176381</td>\n",
       "    </tr>\n",
       "  </tbody>\n",
       "</table>\n",
       "<p>5 rows × 34 columns</p>\n",
       "</div>"
      ],
      "text/plain": [
       "   reimb2010  reimb2008  reimb2009  age2010  male  heart.failure  kidney  \\\n",
       "0        390      320.0        360       97     0              0       0   \n",
       "1        970    58800.0       2740       79     0              1       1   \n",
       "2       5630      510.0       1580       87     0              1       0   \n",
       "3       3480     2930.0      49330       79     0              1       1   \n",
       "4        920     1500.0       1650       85     1              1       0   \n",
       "\n",
       "   cancer  copd  depression  ...    acuity  costTrend  monthsWithClaims  \\\n",
       "0       0     0           0  ...  0.235294  -0.018856                 9   \n",
       "1       0     1           0  ...  0.853591  -0.027265                21   \n",
       "2       0     0           0  ...  0.175115   0.496742                20   \n",
       "3       0     1           1  ...  0.709147   0.214955                19   \n",
       "4       1     0           0  ...  0.174603   0.231568                21   \n",
       "\n",
       "   race_Black  race_Hispanic  race_Other  race_White  log(reimb2010+1)  \\\n",
       "0           0              0           0           1          2.592177   \n",
       "1           0              0           0           1          2.987219   \n",
       "2           0              0           0           1          3.750586   \n",
       "3           0              0           0           1          3.541704   \n",
       "4           0              0           0           1          2.964260   \n",
       "\n",
       "   log(reimb2009+1)  log(reimb2008+1)  \n",
       "0          2.557507          2.506505  \n",
       "1          3.437909          4.769385  \n",
       "2          3.198932          2.708421  \n",
       "3          4.693120          3.467016  \n",
       "4          3.217747          3.176381  \n",
       "\n",
       "[5 rows x 34 columns]"
      ]
     },
     "execution_count": 78,
     "metadata": {},
     "output_type": "execute_result"
    }
   ],
   "source": [
    "claims.head()"
   ]
  },
  {
   "cell_type": "markdown",
   "metadata": {},
   "source": [
    "### Exploring Data"
   ]
  },
  {
   "cell_type": "code",
   "execution_count": 79,
   "metadata": {},
   "outputs": [
    {
     "name": "stdout",
     "output_type": "stream",
     "text": [
      "Shape of the dataframe is (1023948, 34)\n"
     ]
    },
    {
     "data": {
      "text/html": [
       "<div>\n",
       "<style scoped>\n",
       "    .dataframe tbody tr th:only-of-type {\n",
       "        vertical-align: middle;\n",
       "    }\n",
       "\n",
       "    .dataframe tbody tr th {\n",
       "        vertical-align: top;\n",
       "    }\n",
       "\n",
       "    .dataframe thead th {\n",
       "        text-align: right;\n",
       "    }\n",
       "</style>\n",
       "<table border=\"1\" class=\"dataframe\">\n",
       "  <thead>\n",
       "    <tr style=\"text-align: right;\">\n",
       "      <th></th>\n",
       "      <th>reimb2010</th>\n",
       "      <th>reimb2008</th>\n",
       "      <th>reimb2009</th>\n",
       "      <th>age2010</th>\n",
       "      <th>male</th>\n",
       "      <th>heart.failure</th>\n",
       "      <th>kidney</th>\n",
       "      <th>cancer</th>\n",
       "      <th>copd</th>\n",
       "      <th>depression</th>\n",
       "      <th>...</th>\n",
       "      <th>acuity</th>\n",
       "      <th>costTrend</th>\n",
       "      <th>monthsWithClaims</th>\n",
       "      <th>race_Black</th>\n",
       "      <th>race_Hispanic</th>\n",
       "      <th>race_Other</th>\n",
       "      <th>race_White</th>\n",
       "      <th>log(reimb2010+1)</th>\n",
       "      <th>log(reimb2009+1)</th>\n",
       "      <th>log(reimb2008+1)</th>\n",
       "    </tr>\n",
       "  </thead>\n",
       "  <tbody>\n",
       "    <tr>\n",
       "      <th>count</th>\n",
       "      <td>1.023948e+06</td>\n",
       "      <td>1.023948e+06</td>\n",
       "      <td>1.023948e+06</td>\n",
       "      <td>1.023948e+06</td>\n",
       "      <td>1.023948e+06</td>\n",
       "      <td>1.023948e+06</td>\n",
       "      <td>1.023948e+06</td>\n",
       "      <td>1.023948e+06</td>\n",
       "      <td>1.023948e+06</td>\n",
       "      <td>1.023948e+06</td>\n",
       "      <td>...</td>\n",
       "      <td>1.023948e+06</td>\n",
       "      <td>1.023948e+06</td>\n",
       "      <td>1.023948e+06</td>\n",
       "      <td>1.023948e+06</td>\n",
       "      <td>1.023948e+06</td>\n",
       "      <td>1.023948e+06</td>\n",
       "      <td>1.023948e+06</td>\n",
       "      <td>1.023948e+06</td>\n",
       "      <td>1.023948e+06</td>\n",
       "      <td>1.023948e+06</td>\n",
       "    </tr>\n",
       "    <tr>\n",
       "      <th>mean</th>\n",
       "      <td>2.843425e+03</td>\n",
       "      <td>4.648829e+03</td>\n",
       "      <td>4.919452e+03</td>\n",
       "      <td>7.318483e+01</td>\n",
       "      <td>4.325093e-01</td>\n",
       "      <td>5.044504e-01</td>\n",
       "      <td>3.157953e-01</td>\n",
       "      <td>1.277887e-01</td>\n",
       "      <td>2.612935e-01</td>\n",
       "      <td>3.942524e-01</td>\n",
       "      <td>...</td>\n",
       "      <td>3.751325e-01</td>\n",
       "      <td>8.071224e-02</td>\n",
       "      <td>1.449090e+01</td>\n",
       "      <td>9.944743e-02</td>\n",
       "      <td>2.229312e-02</td>\n",
       "      <td>3.869044e-02</td>\n",
       "      <td>8.395690e-01</td>\n",
       "      <td>2.655579e+00</td>\n",
       "      <td>2.938725e+00</td>\n",
       "      <td>2.728052e+00</td>\n",
       "    </tr>\n",
       "    <tr>\n",
       "      <th>std</th>\n",
       "      <td>5.959795e+03</td>\n",
       "      <td>1.043017e+04</td>\n",
       "      <td>8.954888e+03</td>\n",
       "      <td>1.237868e+01</td>\n",
       "      <td>4.954243e-01</td>\n",
       "      <td>4.999804e-01</td>\n",
       "      <td>4.648321e-01</td>\n",
       "      <td>3.338546e-01</td>\n",
       "      <td>4.393397e-01</td>\n",
       "      <td>4.886898e-01</td>\n",
       "      <td>...</td>\n",
       "      <td>2.586138e-01</td>\n",
       "      <td>2.073680e-01</td>\n",
       "      <td>8.070300e+00</td>\n",
       "      <td>2.992620e-01</td>\n",
       "      <td>1.476352e-01</td>\n",
       "      <td>1.928562e-01</td>\n",
       "      <td>3.670055e-01</td>\n",
       "      <td>1.248806e+00</td>\n",
       "      <td>1.260245e+00</td>\n",
       "      <td>1.362160e+00</td>\n",
       "    </tr>\n",
       "    <tr>\n",
       "      <th>min</th>\n",
       "      <td>0.000000e+00</td>\n",
       "      <td>0.000000e+00</td>\n",
       "      <td>0.000000e+00</td>\n",
       "      <td>2.600000e+01</td>\n",
       "      <td>0.000000e+00</td>\n",
       "      <td>0.000000e+00</td>\n",
       "      <td>0.000000e+00</td>\n",
       "      <td>0.000000e+00</td>\n",
       "      <td>0.000000e+00</td>\n",
       "      <td>0.000000e+00</td>\n",
       "      <td>...</td>\n",
       "      <td>4.166667e-02</td>\n",
       "      <td>-7.627773e-01</td>\n",
       "      <td>0.000000e+00</td>\n",
       "      <td>0.000000e+00</td>\n",
       "      <td>0.000000e+00</td>\n",
       "      <td>0.000000e+00</td>\n",
       "      <td>0.000000e+00</td>\n",
       "      <td>0.000000e+00</td>\n",
       "      <td>0.000000e+00</td>\n",
       "      <td>0.000000e+00</td>\n",
       "    </tr>\n",
       "    <tr>\n",
       "      <th>25%</th>\n",
       "      <td>2.400000e+02</td>\n",
       "      <td>2.800000e+02</td>\n",
       "      <td>5.700000e+02</td>\n",
       "      <td>6.800000e+01</td>\n",
       "      <td>0.000000e+00</td>\n",
       "      <td>0.000000e+00</td>\n",
       "      <td>0.000000e+00</td>\n",
       "      <td>0.000000e+00</td>\n",
       "      <td>0.000000e+00</td>\n",
       "      <td>0.000000e+00</td>\n",
       "      <td>...</td>\n",
       "      <td>1.841004e-01</td>\n",
       "      <td>-4.075997e-02</td>\n",
       "      <td>9.000000e+00</td>\n",
       "      <td>0.000000e+00</td>\n",
       "      <td>0.000000e+00</td>\n",
       "      <td>0.000000e+00</td>\n",
       "      <td>1.000000e+00</td>\n",
       "      <td>2.382017e+00</td>\n",
       "      <td>2.756636e+00</td>\n",
       "      <td>2.448706e+00</td>\n",
       "    </tr>\n",
       "    <tr>\n",
       "      <th>50%</th>\n",
       "      <td>1.120000e+03</td>\n",
       "      <td>1.350000e+03</td>\n",
       "      <td>2.020000e+03</td>\n",
       "      <td>7.400000e+01</td>\n",
       "      <td>0.000000e+00</td>\n",
       "      <td>1.000000e+00</td>\n",
       "      <td>0.000000e+00</td>\n",
       "      <td>0.000000e+00</td>\n",
       "      <td>0.000000e+00</td>\n",
       "      <td>0.000000e+00</td>\n",
       "      <td>...</td>\n",
       "      <td>3.049738e-01</td>\n",
       "      <td>7.135935e-02</td>\n",
       "      <td>1.700000e+01</td>\n",
       "      <td>0.000000e+00</td>\n",
       "      <td>0.000000e+00</td>\n",
       "      <td>0.000000e+00</td>\n",
       "      <td>1.000000e+00</td>\n",
       "      <td>3.049606e+00</td>\n",
       "      <td>3.305566e+00</td>\n",
       "      <td>3.130655e+00</td>\n",
       "    </tr>\n",
       "    <tr>\n",
       "      <th>75%</th>\n",
       "      <td>2.620000e+03</td>\n",
       "      <td>3.800000e+03</td>\n",
       "      <td>4.970000e+03</td>\n",
       "      <td>8.100000e+01</td>\n",
       "      <td>1.000000e+00</td>\n",
       "      <td>1.000000e+00</td>\n",
       "      <td>1.000000e+00</td>\n",
       "      <td>0.000000e+00</td>\n",
       "      <td>1.000000e+00</td>\n",
       "      <td>1.000000e+00</td>\n",
       "      <td>...</td>\n",
       "      <td>5.272727e-01</td>\n",
       "      <td>2.390716e-01</td>\n",
       "      <td>2.100000e+01</td>\n",
       "      <td>0.000000e+00</td>\n",
       "      <td>0.000000e+00</td>\n",
       "      <td>0.000000e+00</td>\n",
       "      <td>1.000000e+00</td>\n",
       "      <td>3.418467e+00</td>\n",
       "      <td>3.696444e+00</td>\n",
       "      <td>3.579898e+00</td>\n",
       "    </tr>\n",
       "    <tr>\n",
       "      <th>max</th>\n",
       "      <td>1.605000e+05</td>\n",
       "      <td>2.307700e+05</td>\n",
       "      <td>1.870700e+05</td>\n",
       "      <td>1.000000e+02</td>\n",
       "      <td>1.000000e+00</td>\n",
       "      <td>1.000000e+00</td>\n",
       "      <td>1.000000e+00</td>\n",
       "      <td>1.000000e+00</td>\n",
       "      <td>1.000000e+00</td>\n",
       "      <td>1.000000e+00</td>\n",
       "      <td>...</td>\n",
       "      <td>1.000000e+00</td>\n",
       "      <td>8.179267e-01</td>\n",
       "      <td>2.400000e+01</td>\n",
       "      <td>1.000000e+00</td>\n",
       "      <td>1.000000e+00</td>\n",
       "      <td>1.000000e+00</td>\n",
       "      <td>1.000000e+00</td>\n",
       "      <td>5.205478e+00</td>\n",
       "      <td>5.272006e+00</td>\n",
       "      <td>5.363181e+00</td>\n",
       "    </tr>\n",
       "  </tbody>\n",
       "</table>\n",
       "<p>8 rows × 34 columns</p>\n",
       "</div>"
      ],
      "text/plain": [
       "          reimb2010     reimb2008     reimb2009       age2010          male  \\\n",
       "count  1.023948e+06  1.023948e+06  1.023948e+06  1.023948e+06  1.023948e+06   \n",
       "mean   2.843425e+03  4.648829e+03  4.919452e+03  7.318483e+01  4.325093e-01   \n",
       "std    5.959795e+03  1.043017e+04  8.954888e+03  1.237868e+01  4.954243e-01   \n",
       "min    0.000000e+00  0.000000e+00  0.000000e+00  2.600000e+01  0.000000e+00   \n",
       "25%    2.400000e+02  2.800000e+02  5.700000e+02  6.800000e+01  0.000000e+00   \n",
       "50%    1.120000e+03  1.350000e+03  2.020000e+03  7.400000e+01  0.000000e+00   \n",
       "75%    2.620000e+03  3.800000e+03  4.970000e+03  8.100000e+01  1.000000e+00   \n",
       "max    1.605000e+05  2.307700e+05  1.870700e+05  1.000000e+02  1.000000e+00   \n",
       "\n",
       "       heart.failure        kidney        cancer          copd    depression  \\\n",
       "count   1.023948e+06  1.023948e+06  1.023948e+06  1.023948e+06  1.023948e+06   \n",
       "mean    5.044504e-01  3.157953e-01  1.277887e-01  2.612935e-01  3.942524e-01   \n",
       "std     4.999804e-01  4.648321e-01  3.338546e-01  4.393397e-01  4.886898e-01   \n",
       "min     0.000000e+00  0.000000e+00  0.000000e+00  0.000000e+00  0.000000e+00   \n",
       "25%     0.000000e+00  0.000000e+00  0.000000e+00  0.000000e+00  0.000000e+00   \n",
       "50%     1.000000e+00  0.000000e+00  0.000000e+00  0.000000e+00  0.000000e+00   \n",
       "75%     1.000000e+00  1.000000e+00  0.000000e+00  1.000000e+00  1.000000e+00   \n",
       "max     1.000000e+00  1.000000e+00  1.000000e+00  1.000000e+00  1.000000e+00   \n",
       "\n",
       "       ...        acuity     costTrend  monthsWithClaims    race_Black  \\\n",
       "count  ...  1.023948e+06  1.023948e+06      1.023948e+06  1.023948e+06   \n",
       "mean   ...  3.751325e-01  8.071224e-02      1.449090e+01  9.944743e-02   \n",
       "std    ...  2.586138e-01  2.073680e-01      8.070300e+00  2.992620e-01   \n",
       "min    ...  4.166667e-02 -7.627773e-01      0.000000e+00  0.000000e+00   \n",
       "25%    ...  1.841004e-01 -4.075997e-02      9.000000e+00  0.000000e+00   \n",
       "50%    ...  3.049738e-01  7.135935e-02      1.700000e+01  0.000000e+00   \n",
       "75%    ...  5.272727e-01  2.390716e-01      2.100000e+01  0.000000e+00   \n",
       "max    ...  1.000000e+00  8.179267e-01      2.400000e+01  1.000000e+00   \n",
       "\n",
       "       race_Hispanic    race_Other    race_White  log(reimb2010+1)  \\\n",
       "count   1.023948e+06  1.023948e+06  1.023948e+06      1.023948e+06   \n",
       "mean    2.229312e-02  3.869044e-02  8.395690e-01      2.655579e+00   \n",
       "std     1.476352e-01  1.928562e-01  3.670055e-01      1.248806e+00   \n",
       "min     0.000000e+00  0.000000e+00  0.000000e+00      0.000000e+00   \n",
       "25%     0.000000e+00  0.000000e+00  1.000000e+00      2.382017e+00   \n",
       "50%     0.000000e+00  0.000000e+00  1.000000e+00      3.049606e+00   \n",
       "75%     0.000000e+00  0.000000e+00  1.000000e+00      3.418467e+00   \n",
       "max     1.000000e+00  1.000000e+00  1.000000e+00      5.205478e+00   \n",
       "\n",
       "       log(reimb2009+1)  log(reimb2008+1)  \n",
       "count      1.023948e+06      1.023948e+06  \n",
       "mean       2.938725e+00      2.728052e+00  \n",
       "std        1.260245e+00      1.362160e+00  \n",
       "min        0.000000e+00      0.000000e+00  \n",
       "25%        2.756636e+00      2.448706e+00  \n",
       "50%        3.305566e+00      3.130655e+00  \n",
       "75%        3.696444e+00      3.579898e+00  \n",
       "max        5.272006e+00      5.363181e+00  \n",
       "\n",
       "[8 rows x 34 columns]"
      ]
     },
     "execution_count": 79,
     "metadata": {},
     "output_type": "execute_result"
    }
   ],
   "source": [
    "pl.stats(claims)"
   ]
  },
  {
   "cell_type": "code",
   "execution_count": 80,
   "metadata": {},
   "outputs": [
    {
     "data": {
      "text/plain": [
       "Index(['reimb2010', 'reimb2008', 'reimb2009', 'age2010', 'male',\n",
       "       'heart.failure', 'kidney', 'cancer', 'copd', 'depression', 'diabetes',\n",
       "       'ihd', 'osteoporosis', 'arthritis', 'stroke', 'InpatientClaims',\n",
       "       'OutpatientClaims', 'OfficeVisit', 'EyeExam', 'EKG', 'xray', 'CTScan',\n",
       "       'PhysicalTherapy', 'Ambulance', 'acuity', 'costTrend',\n",
       "       'monthsWithClaims', 'race_Black', 'race_Hispanic', 'race_Other',\n",
       "       'race_White', 'log(reimb2010+1)', 'log(reimb2009+1)',\n",
       "       'log(reimb2008+1)'],\n",
       "      dtype='object')"
      ]
     },
     "execution_count": 80,
     "metadata": {},
     "output_type": "execute_result"
    }
   ],
   "source": [
    "claims.columns"
   ]
  },
  {
   "cell_type": "markdown",
   "metadata": {},
   "source": [
    "### Pre-Processing Data"
   ]
  },
  {
   "cell_type": "markdown",
   "metadata": {},
   "source": [
    "We will be trying OfficeVisit, costTrend, InpatientClaims, OutpatientClaims, age2010, reimb2009, reimb2008, heart.failure, and kidney as features to predict the outcome variable, which is reimb2010."
   ]
  },
  {
   "cell_type": "code",
   "execution_count": 183,
   "metadata": {},
   "outputs": [],
   "source": [
    "df = claims.copy()"
   ]
  },
  {
   "cell_type": "code",
   "execution_count": 184,
   "metadata": {},
   "outputs": [],
   "source": [
    "#fill missing columns\n",
    "pl.fill_all_missing(df)"
   ]
  },
  {
   "cell_type": "code",
   "execution_count": 199,
   "metadata": {},
   "outputs": [],
   "source": [
    "df_sample = df.copy()\n",
    "df_sample['Cost'] = np.where(df_sample['reimb2010'] > 2620, 1, 0) #Cost as a binary variable\n",
    "#2620 is the threshold at which 75% of medicare patients spend less than, and how we categorize a high cost\n",
    "#high cost is value 1, low cost is value 0\n",
    "df_sample = df_sample.drop(columns = ['reimb2010', 'reimb2009', 'reimb2008', 'log(reimb2010+1)'])"
   ]
  },
  {
   "cell_type": "code",
   "execution_count": 202,
   "metadata": {},
   "outputs": [],
   "source": [
    "train, test = pl.train_test(df_sample, 0.2)\n",
    "features = list(df_sample.columns.values)\n",
    "features.remove('Cost')"
   ]
  },
  {
   "cell_type": "code",
   "execution_count": 203,
   "metadata": {},
   "outputs": [],
   "source": [
    "#normalize feature columns\n",
    "train_df, test_df = pl.normalize(train, test, features)"
   ]
  },
  {
   "cell_type": "code",
   "execution_count": 204,
   "metadata": {},
   "outputs": [],
   "source": [
    "# Config: Dictionaries of models and hyperparameters - taken from class assignment\n",
    "MODELS = {\n",
    "    'LogisticRegression': LogisticRegression(), \n",
    "    'LinearSVC': LinearSVC(), \n",
    "    'GaussianNB': GaussianNB()\n",
    "}\n",
    "\n",
    "GRID = {\n",
    "    'LogisticRegression': [{'penalty': x, 'C': y, 'random_state': 0} \n",
    "                           for x in ('l2', 'none') \\\n",
    "                           for y in (0.01, 0.1, 1, 10, 100)],\n",
    "    'GaussianNB': [{'priors': None}],\n",
    "    'LinearSVC': [{'C': x, 'random_state': 0} \\\n",
    "                  for x in (0.1, 1, 10)]\n",
    "}"
   ]
  },
  {
   "cell_type": "code",
   "execution_count": 205,
   "metadata": {},
   "outputs": [
    {
     "name": "stdout",
     "output_type": "stream",
     "text": [
      "Training model: LogisticRegression | {'penalty': 'l2', 'C': 0.01, 'random_state': 0}\n",
      "Training model: LogisticRegression | {'penalty': 'l2', 'C': 0.1, 'random_state': 0}\n",
      "Training model: LogisticRegression | {'penalty': 'l2', 'C': 1, 'random_state': 0}\n",
      "Training model: LogisticRegression | {'penalty': 'l2', 'C': 10, 'random_state': 0}\n",
      "Training model: LogisticRegression | {'penalty': 'l2', 'C': 100, 'random_state': 0}\n",
      "Training model: LogisticRegression | {'penalty': 'none', 'C': 0.01, 'random_state': 0}\n"
     ]
    },
    {
     "name": "stderr",
     "output_type": "stream",
     "text": [
      "/Users/kellyyang/opt/anaconda3/lib/python3.8/site-packages/sklearn/linear_model/_logistic.py:1320: UserWarning: Setting penalty='none' will ignore the C and l1_ratio parameters\n",
      "  warnings.warn(\n"
     ]
    },
    {
     "name": "stdout",
     "output_type": "stream",
     "text": [
      "Training model: LogisticRegression | {'penalty': 'none', 'C': 0.1, 'random_state': 0}\n"
     ]
    },
    {
     "name": "stderr",
     "output_type": "stream",
     "text": [
      "/Users/kellyyang/opt/anaconda3/lib/python3.8/site-packages/sklearn/linear_model/_logistic.py:1320: UserWarning: Setting penalty='none' will ignore the C and l1_ratio parameters\n",
      "  warnings.warn(\n"
     ]
    },
    {
     "name": "stdout",
     "output_type": "stream",
     "text": [
      "Training model: LogisticRegression | {'penalty': 'none', 'C': 1, 'random_state': 0}\n",
      "Training model: LogisticRegression | {'penalty': 'none', 'C': 10, 'random_state': 0}\n"
     ]
    },
    {
     "name": "stderr",
     "output_type": "stream",
     "text": [
      "/Users/kellyyang/opt/anaconda3/lib/python3.8/site-packages/sklearn/linear_model/_logistic.py:1320: UserWarning: Setting penalty='none' will ignore the C and l1_ratio parameters\n",
      "  warnings.warn(\n"
     ]
    },
    {
     "name": "stdout",
     "output_type": "stream",
     "text": [
      "Training model: LogisticRegression | {'penalty': 'none', 'C': 100, 'random_state': 0}\n"
     ]
    },
    {
     "name": "stderr",
     "output_type": "stream",
     "text": [
      "/Users/kellyyang/opt/anaconda3/lib/python3.8/site-packages/sklearn/linear_model/_logistic.py:1320: UserWarning: Setting penalty='none' will ignore the C and l1_ratio parameters\n",
      "  warnings.warn(\n"
     ]
    },
    {
     "name": "stdout",
     "output_type": "stream",
     "text": [
      "Training model: LinearSVC | {'C': 0.1, 'random_state': 0}\n"
     ]
    },
    {
     "name": "stderr",
     "output_type": "stream",
     "text": [
      "/Users/kellyyang/opt/anaconda3/lib/python3.8/site-packages/sklearn/svm/_base.py:976: ConvergenceWarning: Liblinear failed to converge, increase the number of iterations.\n",
      "  warnings.warn(\"Liblinear failed to converge, increase \"\n"
     ]
    },
    {
     "name": "stdout",
     "output_type": "stream",
     "text": [
      "Training model: LinearSVC | {'C': 1, 'random_state': 0}\n"
     ]
    },
    {
     "name": "stderr",
     "output_type": "stream",
     "text": [
      "/Users/kellyyang/opt/anaconda3/lib/python3.8/site-packages/sklearn/svm/_base.py:976: ConvergenceWarning: Liblinear failed to converge, increase the number of iterations.\n",
      "  warnings.warn(\"Liblinear failed to converge, increase \"\n"
     ]
    },
    {
     "name": "stdout",
     "output_type": "stream",
     "text": [
      "Training model: LinearSVC | {'C': 10, 'random_state': 0}\n"
     ]
    },
    {
     "name": "stderr",
     "output_type": "stream",
     "text": [
      "/Users/kellyyang/opt/anaconda3/lib/python3.8/site-packages/sklearn/svm/_base.py:976: ConvergenceWarning: Liblinear failed to converge, increase the number of iterations.\n",
      "  warnings.warn(\"Liblinear failed to converge, increase \"\n"
     ]
    },
    {
     "name": "stdout",
     "output_type": "stream",
     "text": [
      "Training model: GaussianNB | {'priors': None}\n",
      "Time Elapsed: 0:22:41.783818\n"
     ]
    }
   ],
   "source": [
    "results = pl.grid_search(train_df, test_df, MODELS, GRID, 'Cost')"
   ]
  },
  {
   "cell_type": "code",
   "execution_count": 207,
   "metadata": {
    "scrolled": false
   },
   "outputs": [
    {
     "data": {
      "text/html": [
       "<div>\n",
       "<style scoped>\n",
       "    .dataframe tbody tr th:only-of-type {\n",
       "        vertical-align: middle;\n",
       "    }\n",
       "\n",
       "    .dataframe tbody tr th {\n",
       "        vertical-align: top;\n",
       "    }\n",
       "\n",
       "    .dataframe thead th {\n",
       "        text-align: right;\n",
       "    }\n",
       "</style>\n",
       "<table border=\"1\" class=\"dataframe\">\n",
       "  <thead>\n",
       "    <tr style=\"text-align: right;\">\n",
       "      <th></th>\n",
       "      <th>Model</th>\n",
       "      <th>Parameters</th>\n",
       "      <th>Accuracy Score</th>\n",
       "      <th>Precision Score</th>\n",
       "      <th>Recall Score</th>\n",
       "      <th>F1 Score</th>\n",
       "    </tr>\n",
       "  </thead>\n",
       "  <tbody>\n",
       "    <tr>\n",
       "      <th>13</th>\n",
       "      <td>GaussianNB</td>\n",
       "      <td>{'priors': None}</td>\n",
       "      <td>0.699746</td>\n",
       "      <td>0.437242</td>\n",
       "      <td>0.687339</td>\n",
       "      <td>0.534481</td>\n",
       "    </tr>\n",
       "    <tr>\n",
       "      <th>1</th>\n",
       "      <td>LogisticRegression</td>\n",
       "      <td>{'penalty': 'l2', 'C': 0.1, 'random_state': 0}</td>\n",
       "      <td>0.767396</td>\n",
       "      <td>0.588221</td>\n",
       "      <td>0.241549</td>\n",
       "      <td>0.342467</td>\n",
       "    </tr>\n",
       "    <tr>\n",
       "      <th>3</th>\n",
       "      <td>LogisticRegression</td>\n",
       "      <td>{'penalty': 'l2', 'C': 10, 'random_state': 0}</td>\n",
       "      <td>0.767391</td>\n",
       "      <td>0.588193</td>\n",
       "      <td>0.241549</td>\n",
       "      <td>0.342462</td>\n",
       "    </tr>\n",
       "    <tr>\n",
       "      <th>4</th>\n",
       "      <td>LogisticRegression</td>\n",
       "      <td>{'penalty': 'l2', 'C': 100, 'random_state': 0}</td>\n",
       "      <td>0.767391</td>\n",
       "      <td>0.588193</td>\n",
       "      <td>0.241549</td>\n",
       "      <td>0.342462</td>\n",
       "    </tr>\n",
       "    <tr>\n",
       "      <th>5</th>\n",
       "      <td>LogisticRegression</td>\n",
       "      <td>{'penalty': 'none', 'C': 0.01, 'random_state': 0}</td>\n",
       "      <td>0.767391</td>\n",
       "      <td>0.588193</td>\n",
       "      <td>0.241549</td>\n",
       "      <td>0.342462</td>\n",
       "    </tr>\n",
       "    <tr>\n",
       "      <th>6</th>\n",
       "      <td>LogisticRegression</td>\n",
       "      <td>{'penalty': 'none', 'C': 0.1, 'random_state': 0}</td>\n",
       "      <td>0.767391</td>\n",
       "      <td>0.588193</td>\n",
       "      <td>0.241549</td>\n",
       "      <td>0.342462</td>\n",
       "    </tr>\n",
       "    <tr>\n",
       "      <th>7</th>\n",
       "      <td>LogisticRegression</td>\n",
       "      <td>{'penalty': 'none', 'C': 1, 'random_state': 0}</td>\n",
       "      <td>0.767391</td>\n",
       "      <td>0.588193</td>\n",
       "      <td>0.241549</td>\n",
       "      <td>0.342462</td>\n",
       "    </tr>\n",
       "    <tr>\n",
       "      <th>8</th>\n",
       "      <td>LogisticRegression</td>\n",
       "      <td>{'penalty': 'none', 'C': 10, 'random_state': 0}</td>\n",
       "      <td>0.767391</td>\n",
       "      <td>0.588193</td>\n",
       "      <td>0.241549</td>\n",
       "      <td>0.342462</td>\n",
       "    </tr>\n",
       "    <tr>\n",
       "      <th>9</th>\n",
       "      <td>LogisticRegression</td>\n",
       "      <td>{'penalty': 'none', 'C': 100, 'random_state': 0}</td>\n",
       "      <td>0.767391</td>\n",
       "      <td>0.588193</td>\n",
       "      <td>0.241549</td>\n",
       "      <td>0.342462</td>\n",
       "    </tr>\n",
       "    <tr>\n",
       "      <th>2</th>\n",
       "      <td>LogisticRegression</td>\n",
       "      <td>{'penalty': 'l2', 'C': 1, 'random_state': 0}</td>\n",
       "      <td>0.767386</td>\n",
       "      <td>0.588174</td>\n",
       "      <td>0.241530</td>\n",
       "      <td>0.342439</td>\n",
       "    </tr>\n",
       "    <tr>\n",
       "      <th>0</th>\n",
       "      <td>LogisticRegression</td>\n",
       "      <td>{'penalty': 'l2', 'C': 0.01, 'random_state': 0}</td>\n",
       "      <td>0.767386</td>\n",
       "      <td>0.588199</td>\n",
       "      <td>0.241471</td>\n",
       "      <td>0.342385</td>\n",
       "    </tr>\n",
       "    <tr>\n",
       "      <th>12</th>\n",
       "      <td>LinearSVC</td>\n",
       "      <td>{'C': 10, 'random_state': 0}</td>\n",
       "      <td>0.760193</td>\n",
       "      <td>0.550125</td>\n",
       "      <td>0.239991</td>\n",
       "      <td>0.334192</td>\n",
       "    </tr>\n",
       "    <tr>\n",
       "      <th>11</th>\n",
       "      <td>LinearSVC</td>\n",
       "      <td>{'C': 1, 'random_state': 0}</td>\n",
       "      <td>0.764774</td>\n",
       "      <td>0.584898</td>\n",
       "      <td>0.213568</td>\n",
       "      <td>0.312889</td>\n",
       "    </tr>\n",
       "    <tr>\n",
       "      <th>10</th>\n",
       "      <td>LinearSVC</td>\n",
       "      <td>{'C': 0.1, 'random_state': 0}</td>\n",
       "      <td>0.764901</td>\n",
       "      <td>0.586402</td>\n",
       "      <td>0.212108</td>\n",
       "      <td>0.311531</td>\n",
       "    </tr>\n",
       "  </tbody>\n",
       "</table>\n",
       "</div>"
      ],
      "text/plain": [
       "                 Model                                         Parameters  \\\n",
       "13          GaussianNB                                   {'priors': None}   \n",
       "1   LogisticRegression     {'penalty': 'l2', 'C': 0.1, 'random_state': 0}   \n",
       "3   LogisticRegression      {'penalty': 'l2', 'C': 10, 'random_state': 0}   \n",
       "4   LogisticRegression     {'penalty': 'l2', 'C': 100, 'random_state': 0}   \n",
       "5   LogisticRegression  {'penalty': 'none', 'C': 0.01, 'random_state': 0}   \n",
       "6   LogisticRegression   {'penalty': 'none', 'C': 0.1, 'random_state': 0}   \n",
       "7   LogisticRegression     {'penalty': 'none', 'C': 1, 'random_state': 0}   \n",
       "8   LogisticRegression    {'penalty': 'none', 'C': 10, 'random_state': 0}   \n",
       "9   LogisticRegression   {'penalty': 'none', 'C': 100, 'random_state': 0}   \n",
       "2   LogisticRegression       {'penalty': 'l2', 'C': 1, 'random_state': 0}   \n",
       "0   LogisticRegression    {'penalty': 'l2', 'C': 0.01, 'random_state': 0}   \n",
       "12           LinearSVC                       {'C': 10, 'random_state': 0}   \n",
       "11           LinearSVC                        {'C': 1, 'random_state': 0}   \n",
       "10           LinearSVC                      {'C': 0.1, 'random_state': 0}   \n",
       "\n",
       "    Accuracy Score  Precision Score  Recall Score  F1 Score  \n",
       "13        0.699746         0.437242      0.687339  0.534481  \n",
       "1         0.767396         0.588221      0.241549  0.342467  \n",
       "3         0.767391         0.588193      0.241549  0.342462  \n",
       "4         0.767391         0.588193      0.241549  0.342462  \n",
       "5         0.767391         0.588193      0.241549  0.342462  \n",
       "6         0.767391         0.588193      0.241549  0.342462  \n",
       "7         0.767391         0.588193      0.241549  0.342462  \n",
       "8         0.767391         0.588193      0.241549  0.342462  \n",
       "9         0.767391         0.588193      0.241549  0.342462  \n",
       "2         0.767386         0.588174      0.241530  0.342439  \n",
       "0         0.767386         0.588199      0.241471  0.342385  \n",
       "12        0.760193         0.550125      0.239991  0.334192  \n",
       "11        0.764774         0.584898      0.213568  0.312889  \n",
       "10        0.764901         0.586402      0.212108  0.311531  "
      ]
     },
     "execution_count": 207,
     "metadata": {},
     "output_type": "execute_result"
    }
   ],
   "source": [
    "sorted_results = results.sort_values(by=['Recall Score', 'Accuracy Score'], ascending = False)\n",
    "sorted_results"
   ]
  },
  {
   "cell_type": "code",
   "execution_count": 211,
   "metadata": {},
   "outputs": [],
   "source": [
    "x_train = train_df.drop(columns=['Cost'])\n",
    "x_test = test_df.drop(columns=['Cost'])\n",
    "y_train = train_df[['Cost']]\n",
    "y_test = test_df[['Cost']]"
   ]
  },
  {
   "cell_type": "code",
   "execution_count": 214,
   "metadata": {
    "scrolled": true
   },
   "outputs": [
    {
     "name": "stderr",
     "output_type": "stream",
     "text": [
      "/Users/kellyyang/opt/anaconda3/lib/python3.8/site-packages/sklearn/utils/validation.py:72: DataConversionWarning: A column-vector y was passed when a 1d array was expected. Please change the shape of y to (n_samples, ), for example using ravel().\n",
      "  return f(**kwargs)\n"
     ]
    }
   ],
   "source": [
    "#most important feature in the model that yielded the highest recall score\n",
    "from sklearn.inspection import permutation_importance #Gaussian NB does not have a built-in feature importances\n",
    "#Permutation Importance can be used to determine feature importance from NB\n",
    "model_NB = GaussianNB()\n",
    "best_NB = model_NB.fit(x_train, y_train)\n",
    "features = x_train.columns.values\n",
    "\n",
    "importance_NB = permutation_importance(best_NB, x_test, y_test)\n",
    "features_NB = {}\n",
    "for i, v in enumerate(importance_NB.importances_mean):\n",
    "    features_NB[features[i]] = v"
   ]
  },
  {
   "cell_type": "code",
   "execution_count": 217,
   "metadata": {},
   "outputs": [
    {
     "data": {
      "text/plain": [
       "<AxesSubplot:>"
      ]
     },
     "execution_count": 217,
     "metadata": {},
     "output_type": "execute_result"
    },
    {
     "data": {
      "image/png": "[encoded data removed]",
      "text/plain": [
       "<Figure size 1584x1008 with 1 Axes>"
      ]
     },
     "metadata": {},
     "output_type": "display_data"
    }
   ],
   "source": [
    "df_NB = pd.DataFrame.from_dict(features_NB, orient = 'index', columns = ['Feature Importance'])\n",
    "df_NB = df_NB.sort_values(by = ['Feature Importance'], ascending = False)\n",
    "\n",
    "sns.set(rc={'figure.figsize':(22, 14)})\n",
    "df_NB.plot.barh() #plot permutation importances for NB"
   ]
  },
  {
   "cell_type": "code",
   "execution_count": 218,
   "metadata": {
    "scrolled": true
   },
   "outputs": [
    {
     "data": {
      "text/html": [
       "<div>\n",
       "<style scoped>\n",
       "    .dataframe tbody tr th:only-of-type {\n",
       "        vertical-align: middle;\n",
       "    }\n",
       "\n",
       "    .dataframe tbody tr th {\n",
       "        vertical-align: top;\n",
       "    }\n",
       "\n",
       "    .dataframe thead th {\n",
       "        text-align: right;\n",
       "    }\n",
       "</style>\n",
       "<table border=\"1\" class=\"dataframe\">\n",
       "  <thead>\n",
       "    <tr style=\"text-align: right;\">\n",
       "      <th></th>\n",
       "      <th>Model</th>\n",
       "      <th>Parameters</th>\n",
       "      <th>Accuracy Score</th>\n",
       "      <th>Precision Score</th>\n",
       "      <th>Recall Score</th>\n",
       "      <th>F1 Score</th>\n",
       "    </tr>\n",
       "  </thead>\n",
       "  <tbody>\n",
       "    <tr>\n",
       "      <th>1</th>\n",
       "      <td>LogisticRegression</td>\n",
       "      <td>{'penalty': 'l2', 'C': 0.1, 'random_state': 0}</td>\n",
       "      <td>0.767396</td>\n",
       "      <td>0.588221</td>\n",
       "      <td>0.241549</td>\n",
       "      <td>0.342467</td>\n",
       "    </tr>\n",
       "    <tr>\n",
       "      <th>3</th>\n",
       "      <td>LogisticRegression</td>\n",
       "      <td>{'penalty': 'l2', 'C': 10, 'random_state': 0}</td>\n",
       "      <td>0.767391</td>\n",
       "      <td>0.588193</td>\n",
       "      <td>0.241549</td>\n",
       "      <td>0.342462</td>\n",
       "    </tr>\n",
       "    <tr>\n",
       "      <th>4</th>\n",
       "      <td>LogisticRegression</td>\n",
       "      <td>{'penalty': 'l2', 'C': 100, 'random_state': 0}</td>\n",
       "      <td>0.767391</td>\n",
       "      <td>0.588193</td>\n",
       "      <td>0.241549</td>\n",
       "      <td>0.342462</td>\n",
       "    </tr>\n",
       "  </tbody>\n",
       "</table>\n",
       "</div>"
      ],
      "text/plain": [
       "                Model                                      Parameters  \\\n",
       "1  LogisticRegression  {'penalty': 'l2', 'C': 0.1, 'random_state': 0}   \n",
       "3  LogisticRegression   {'penalty': 'l2', 'C': 10, 'random_state': 0}   \n",
       "4  LogisticRegression  {'penalty': 'l2', 'C': 100, 'random_state': 0}   \n",
       "\n",
       "   Accuracy Score  Precision Score  Recall Score  F1 Score  \n",
       "1        0.767396         0.588221      0.241549  0.342467  \n",
       "3        0.767391         0.588193      0.241549  0.342462  \n",
       "4        0.767391         0.588193      0.241549  0.342462  "
      ]
     },
     "execution_count": 218,
     "metadata": {},
     "output_type": "execute_result"
    }
   ],
   "source": [
    "#highest accuracy scores\n",
    "sorted_results2 = results.sort_values(by=['Accuracy Score', 'Recall Score'], ascending = False)\n",
    "sorted_results2.head(3)"
   ]
  },
  {
   "cell_type": "code",
   "execution_count": 219,
   "metadata": {},
   "outputs": [
    {
     "data": {
      "text/plain": [
       "\"{'penalty': 'l2', 'C': 0.1, 'random_state': 0}\""
      ]
     },
     "execution_count": 219,
     "metadata": {},
     "output_type": "execute_result"
    }
   ],
   "source": [
    "sorted_results2['Parameters'][1]"
   ]
  },
  {
   "cell_type": "code",
   "execution_count": 221,
   "metadata": {},
   "outputs": [
    {
     "name": "stderr",
     "output_type": "stream",
     "text": [
      "/Users/kellyyang/opt/anaconda3/lib/python3.8/site-packages/sklearn/utils/validation.py:72: DataConversionWarning: A column-vector y was passed when a 1d array was expected. Please change the shape of y to (n_samples, ), for example using ravel().\n",
      "  return f(**kwargs)\n"
     ]
    }
   ],
   "source": [
    "#most important feature in the model that yielded the highest accuracy score\n",
    "model_log = LogisticRegression()\n",
    "log_params = {'penalty': 'l2', 'C': 0.1, 'random_state': 0}\n",
    "model_log.set_params(**log_params)\n",
    "best_log = model_log.fit(x_train, y_train)\n",
    "\n",
    "importance_log = model_log.coef_[0]\n",
    "features_log = {}\n",
    "for i, v in enumerate(importance_log):\n",
    "    features_log[features[i]] = v"
   ]
  },
  {
   "cell_type": "code",
   "execution_count": 224,
   "metadata": {},
   "outputs": [
    {
     "data": {
      "text/plain": [
       "Text(0, 0.5, 'Feature')"
      ]
     },
     "execution_count": 224,
     "metadata": {},
     "output_type": "execute_result"
    },
    {
     "data": {
      "image/png": "[encoded data removed]",
      "text/plain": [
       "<Figure size 1584x1008 with 1 Axes>"
      ]
     },
     "metadata": {},
     "output_type": "display_data"
    }
   ],
   "source": [
    "df_log = pd.DataFrame.from_dict(features_log, orient = 'index', columns = ['Feature Importance'])\n",
    "df_log = df_log.sort_values(by = ['Feature Importance'], ascending = False)\n",
    "\n",
    "sns.set(rc={'figure.figsize':(22, 14)})\n",
    "df_log.plot.barh()\n",
    "plt.title('Feature Importances for Logistic Regression')\n",
    "plt.xlabel('Importance Score')\n",
    "plt.ylabel('Feature')"
   ]
  }
 ],
 "metadata": {
  "kernelspec": {
   "display_name": "Python 3",
   "language": "python",
   "name": "python3"
  },
  "language_info": {
   "codemirror_mode": {
    "name": "ipython",
    "version": 3
   },
   "file_extension": ".py",
   "mimetype": "text/x-python",
   "name": "python",
   "nbconvert_exporter": "python",
   "pygments_lexer": "ipython3",
   "version": "3.8.5"
  }
 },
 "nbformat": 4,
 "nbformat_minor": 4
}
