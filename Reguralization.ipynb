{
 "cells": [
  {
   "cell_type": "code",
   "execution_count": 1,
   "metadata": {},
   "outputs": [],
   "source": [
    "import pandas as pd\n",
    "import os\n",
    "import numpy as np\n",
    "%load_ext autoreload\n",
    "%autoreload 2\n",
    "import pipeline as py\n",
    "from sklearn import datasets, linear_model\n",
    "from sklearn.metrics import mean_squared_error, r2_score, SCORERS\n",
    "from sklearn.preprocessing import StandardScaler\n",
    "from sklearn.model_selection import GridSearchCV"
   ]
  },
  {
   "cell_type": "code",
   "execution_count": 2,
   "metadata": {},
   "outputs": [],
   "source": [
    "import seaborn as sns\n",
    "import matplotlib.pyplot as plt\n",
    "%matplotlib inline\n",
    "sns.set(rc={'figure.figsize':(11, 4)})"
   ]
  },
  {
   "cell_type": "markdown",
   "metadata": {},
   "source": [
    "## Reading the Data"
   ]
  },
  {
   "cell_type": "code",
   "execution_count": 3,
   "metadata": {},
   "outputs": [],
   "source": [
    "claims = py.read_all(False)"
   ]
  },
  {
   "cell_type": "code",
   "execution_count": 4,
   "metadata": {},
   "outputs": [
    {
     "data": {
      "text/html": [
       "<div>\n",
       "<style scoped>\n",
       "    .dataframe tbody tr th:only-of-type {\n",
       "        vertical-align: middle;\n",
       "    }\n",
       "\n",
       "    .dataframe tbody tr th {\n",
       "        vertical-align: top;\n",
       "    }\n",
       "\n",
       "    .dataframe thead th {\n",
       "        text-align: right;\n",
       "    }\n",
       "</style>\n",
       "<table border=\"1\" class=\"dataframe\">\n",
       "  <thead>\n",
       "    <tr style=\"text-align: right;\">\n",
       "      <th></th>\n",
       "      <th>reimb2010</th>\n",
       "      <th>reimb2008</th>\n",
       "      <th>reimb2009</th>\n",
       "      <th>age2010</th>\n",
       "      <th>male</th>\n",
       "      <th>heart.failure</th>\n",
       "      <th>kidney</th>\n",
       "      <th>cancer</th>\n",
       "      <th>copd</th>\n",
       "      <th>depression</th>\n",
       "      <th>...</th>\n",
       "      <th>acuity</th>\n",
       "      <th>costTrend</th>\n",
       "      <th>monthsWithClaims</th>\n",
       "      <th>race_Black</th>\n",
       "      <th>race_Hispanic</th>\n",
       "      <th>race_Other</th>\n",
       "      <th>race_White</th>\n",
       "      <th>log(reimb2010+1)</th>\n",
       "      <th>log(reimb2009+1)</th>\n",
       "      <th>log(reimb2008+1)</th>\n",
       "    </tr>\n",
       "  </thead>\n",
       "  <tbody>\n",
       "    <tr>\n",
       "      <th>0</th>\n",
       "      <td>390</td>\n",
       "      <td>320.0</td>\n",
       "      <td>360</td>\n",
       "      <td>97</td>\n",
       "      <td>0</td>\n",
       "      <td>0</td>\n",
       "      <td>0</td>\n",
       "      <td>0</td>\n",
       "      <td>0</td>\n",
       "      <td>0</td>\n",
       "      <td>...</td>\n",
       "      <td>0.235294</td>\n",
       "      <td>-0.018856</td>\n",
       "      <td>9</td>\n",
       "      <td>0</td>\n",
       "      <td>0</td>\n",
       "      <td>0</td>\n",
       "      <td>1</td>\n",
       "      <td>2.592177</td>\n",
       "      <td>2.557507</td>\n",
       "      <td>2.506505</td>\n",
       "    </tr>\n",
       "    <tr>\n",
       "      <th>1</th>\n",
       "      <td>970</td>\n",
       "      <td>58800.0</td>\n",
       "      <td>2740</td>\n",
       "      <td>79</td>\n",
       "      <td>0</td>\n",
       "      <td>1</td>\n",
       "      <td>1</td>\n",
       "      <td>0</td>\n",
       "      <td>1</td>\n",
       "      <td>0</td>\n",
       "      <td>...</td>\n",
       "      <td>0.853591</td>\n",
       "      <td>-0.027265</td>\n",
       "      <td>21</td>\n",
       "      <td>0</td>\n",
       "      <td>0</td>\n",
       "      <td>0</td>\n",
       "      <td>1</td>\n",
       "      <td>2.987219</td>\n",
       "      <td>3.437909</td>\n",
       "      <td>4.769385</td>\n",
       "    </tr>\n",
       "  </tbody>\n",
       "</table>\n",
       "<p>2 rows × 34 columns</p>\n",
       "</div>"
      ],
      "text/plain": [
       "   reimb2010  reimb2008  reimb2009  age2010  male  heart.failure  kidney  \\\n",
       "0        390      320.0        360       97     0              0       0   \n",
       "1        970    58800.0       2740       79     0              1       1   \n",
       "\n",
       "   cancer  copd  depression  ...    acuity  costTrend  monthsWithClaims  \\\n",
       "0       0     0           0  ...  0.235294  -0.018856                 9   \n",
       "1       0     1           0  ...  0.853591  -0.027265                21   \n",
       "\n",
       "   race_Black  race_Hispanic  race_Other  race_White  log(reimb2010+1)  \\\n",
       "0           0              0           0           1          2.592177   \n",
       "1           0              0           0           1          2.987219   \n",
       "\n",
       "   log(reimb2009+1)  log(reimb2008+1)  \n",
       "0          2.557507          2.506505  \n",
       "1          3.437909          4.769385  \n",
       "\n",
       "[2 rows x 34 columns]"
      ]
     },
     "execution_count": 4,
     "metadata": {},
     "output_type": "execute_result"
    }
   ],
   "source": [
    "claims.head(2)"
   ]
  },
  {
   "cell_type": "markdown",
   "metadata": {},
   "source": [
    "## Data Preperation"
   ]
  },
  {
   "cell_type": "code",
   "execution_count": 5,
   "metadata": {},
   "outputs": [],
   "source": [
    "train, test = py.train_test(claims, 0.2, random_ = 5597)"
   ]
  },
  {
   "cell_type": "code",
   "execution_count": 6,
   "metadata": {},
   "outputs": [],
   "source": [
    "pd.set_option(\"display.max_columns\", None)"
   ]
  },
  {
   "cell_type": "code",
   "execution_count": 7,
   "metadata": {},
   "outputs": [
    {
     "data": {
      "text/html": [
       "<div>\n",
       "<style scoped>\n",
       "    .dataframe tbody tr th:only-of-type {\n",
       "        vertical-align: middle;\n",
       "    }\n",
       "\n",
       "    .dataframe tbody tr th {\n",
       "        vertical-align: top;\n",
       "    }\n",
       "\n",
       "    .dataframe thead th {\n",
       "        text-align: right;\n",
       "    }\n",
       "</style>\n",
       "<table border=\"1\" class=\"dataframe\">\n",
       "  <thead>\n",
       "    <tr style=\"text-align: right;\">\n",
       "      <th></th>\n",
       "      <th>reimb2010</th>\n",
       "      <th>reimb2008</th>\n",
       "      <th>reimb2009</th>\n",
       "      <th>age2010</th>\n",
       "      <th>male</th>\n",
       "      <th>heart.failure</th>\n",
       "      <th>kidney</th>\n",
       "      <th>cancer</th>\n",
       "      <th>copd</th>\n",
       "      <th>depression</th>\n",
       "      <th>diabetes</th>\n",
       "      <th>ihd</th>\n",
       "      <th>osteoporosis</th>\n",
       "      <th>arthritis</th>\n",
       "      <th>stroke</th>\n",
       "      <th>InpatientClaims</th>\n",
       "      <th>OutpatientClaims</th>\n",
       "      <th>OfficeVisit</th>\n",
       "      <th>EyeExam</th>\n",
       "      <th>EKG</th>\n",
       "      <th>xray</th>\n",
       "      <th>CTScan</th>\n",
       "      <th>PhysicalTherapy</th>\n",
       "      <th>Ambulance</th>\n",
       "      <th>acuity</th>\n",
       "      <th>costTrend</th>\n",
       "      <th>monthsWithClaims</th>\n",
       "      <th>race_Black</th>\n",
       "      <th>race_Hispanic</th>\n",
       "      <th>race_Other</th>\n",
       "      <th>race_White</th>\n",
       "      <th>log(reimb2010+1)</th>\n",
       "      <th>log(reimb2009+1)</th>\n",
       "      <th>log(reimb2008+1)</th>\n",
       "    </tr>\n",
       "  </thead>\n",
       "  <tbody>\n",
       "    <tr>\n",
       "      <th>0</th>\n",
       "      <td>390</td>\n",
       "      <td>320.0</td>\n",
       "      <td>360</td>\n",
       "      <td>97</td>\n",
       "      <td>0</td>\n",
       "      <td>0</td>\n",
       "      <td>0</td>\n",
       "      <td>0</td>\n",
       "      <td>0</td>\n",
       "      <td>0</td>\n",
       "      <td>1</td>\n",
       "      <td>1</td>\n",
       "      <td>0</td>\n",
       "      <td>0</td>\n",
       "      <td>0</td>\n",
       "      <td>0</td>\n",
       "      <td>0</td>\n",
       "      <td>4</td>\n",
       "      <td>1</td>\n",
       "      <td>0</td>\n",
       "      <td>1</td>\n",
       "      <td>0</td>\n",
       "      <td>0</td>\n",
       "      <td>0</td>\n",
       "      <td>0.235294</td>\n",
       "      <td>-0.018856</td>\n",
       "      <td>9</td>\n",
       "      <td>0</td>\n",
       "      <td>0</td>\n",
       "      <td>0</td>\n",
       "      <td>1</td>\n",
       "      <td>2.592177</td>\n",
       "      <td>2.557507</td>\n",
       "      <td>2.506505</td>\n",
       "    </tr>\n",
       "    <tr>\n",
       "      <th>1</th>\n",
       "      <td>970</td>\n",
       "      <td>58800.0</td>\n",
       "      <td>2740</td>\n",
       "      <td>79</td>\n",
       "      <td>0</td>\n",
       "      <td>1</td>\n",
       "      <td>1</td>\n",
       "      <td>0</td>\n",
       "      <td>1</td>\n",
       "      <td>0</td>\n",
       "      <td>1</td>\n",
       "      <td>1</td>\n",
       "      <td>0</td>\n",
       "      <td>0</td>\n",
       "      <td>1</td>\n",
       "      <td>1</td>\n",
       "      <td>10</td>\n",
       "      <td>12</td>\n",
       "      <td>0</td>\n",
       "      <td>2</td>\n",
       "      <td>8</td>\n",
       "      <td>1</td>\n",
       "      <td>0</td>\n",
       "      <td>1</td>\n",
       "      <td>0.853591</td>\n",
       "      <td>-0.027265</td>\n",
       "      <td>21</td>\n",
       "      <td>0</td>\n",
       "      <td>0</td>\n",
       "      <td>0</td>\n",
       "      <td>1</td>\n",
       "      <td>2.987219</td>\n",
       "      <td>3.437909</td>\n",
       "      <td>4.769385</td>\n",
       "    </tr>\n",
       "    <tr>\n",
       "      <th>2</th>\n",
       "      <td>5630</td>\n",
       "      <td>510.0</td>\n",
       "      <td>1580</td>\n",
       "      <td>87</td>\n",
       "      <td>0</td>\n",
       "      <td>1</td>\n",
       "      <td>0</td>\n",
       "      <td>0</td>\n",
       "      <td>0</td>\n",
       "      <td>0</td>\n",
       "      <td>1</td>\n",
       "      <td>1</td>\n",
       "      <td>0</td>\n",
       "      <td>0</td>\n",
       "      <td>0</td>\n",
       "      <td>0</td>\n",
       "      <td>2</td>\n",
       "      <td>10</td>\n",
       "      <td>0</td>\n",
       "      <td>1</td>\n",
       "      <td>2</td>\n",
       "      <td>1</td>\n",
       "      <td>1</td>\n",
       "      <td>0</td>\n",
       "      <td>0.175115</td>\n",
       "      <td>0.496742</td>\n",
       "      <td>20</td>\n",
       "      <td>0</td>\n",
       "      <td>0</td>\n",
       "      <td>0</td>\n",
       "      <td>1</td>\n",
       "      <td>3.750586</td>\n",
       "      <td>3.198932</td>\n",
       "      <td>2.708421</td>\n",
       "    </tr>\n",
       "    <tr>\n",
       "      <th>3</th>\n",
       "      <td>3480</td>\n",
       "      <td>2930.0</td>\n",
       "      <td>49330</td>\n",
       "      <td>79</td>\n",
       "      <td>0</td>\n",
       "      <td>1</td>\n",
       "      <td>1</td>\n",
       "      <td>0</td>\n",
       "      <td>1</td>\n",
       "      <td>1</td>\n",
       "      <td>1</td>\n",
       "      <td>1</td>\n",
       "      <td>1</td>\n",
       "      <td>1</td>\n",
       "      <td>0</td>\n",
       "      <td>3</td>\n",
       "      <td>7</td>\n",
       "      <td>14</td>\n",
       "      <td>1</td>\n",
       "      <td>1</td>\n",
       "      <td>6</td>\n",
       "      <td>4</td>\n",
       "      <td>3</td>\n",
       "      <td>3</td>\n",
       "      <td>0.709147</td>\n",
       "      <td>0.214955</td>\n",
       "      <td>19</td>\n",
       "      <td>0</td>\n",
       "      <td>0</td>\n",
       "      <td>0</td>\n",
       "      <td>1</td>\n",
       "      <td>3.541704</td>\n",
       "      <td>4.693120</td>\n",
       "      <td>3.467016</td>\n",
       "    </tr>\n",
       "    <tr>\n",
       "      <th>4</th>\n",
       "      <td>920</td>\n",
       "      <td>1500.0</td>\n",
       "      <td>1650</td>\n",
       "      <td>85</td>\n",
       "      <td>1</td>\n",
       "      <td>1</td>\n",
       "      <td>0</td>\n",
       "      <td>1</td>\n",
       "      <td>0</td>\n",
       "      <td>0</td>\n",
       "      <td>1</td>\n",
       "      <td>0</td>\n",
       "      <td>0</td>\n",
       "      <td>1</td>\n",
       "      <td>0</td>\n",
       "      <td>0</td>\n",
       "      <td>0</td>\n",
       "      <td>16</td>\n",
       "      <td>2</td>\n",
       "      <td>1</td>\n",
       "      <td>3</td>\n",
       "      <td>0</td>\n",
       "      <td>1</td>\n",
       "      <td>0</td>\n",
       "      <td>0.174603</td>\n",
       "      <td>0.231568</td>\n",
       "      <td>21</td>\n",
       "      <td>0</td>\n",
       "      <td>0</td>\n",
       "      <td>0</td>\n",
       "      <td>1</td>\n",
       "      <td>2.964260</td>\n",
       "      <td>3.217747</td>\n",
       "      <td>3.176381</td>\n",
       "    </tr>\n",
       "  </tbody>\n",
       "</table>\n",
       "</div>"
      ],
      "text/plain": [
       "   reimb2010  reimb2008  reimb2009  age2010  male  heart.failure  kidney  \\\n",
       "0        390      320.0        360       97     0              0       0   \n",
       "1        970    58800.0       2740       79     0              1       1   \n",
       "2       5630      510.0       1580       87     0              1       0   \n",
       "3       3480     2930.0      49330       79     0              1       1   \n",
       "4        920     1500.0       1650       85     1              1       0   \n",
       "\n",
       "   cancer  copd  depression  diabetes  ihd  osteoporosis  arthritis  stroke  \\\n",
       "0       0     0           0         1    1             0          0       0   \n",
       "1       0     1           0         1    1             0          0       1   \n",
       "2       0     0           0         1    1             0          0       0   \n",
       "3       0     1           1         1    1             1          1       0   \n",
       "4       1     0           0         1    0             0          1       0   \n",
       "\n",
       "   InpatientClaims  OutpatientClaims  OfficeVisit  EyeExam  EKG  xray  CTScan  \\\n",
       "0                0                 0            4        1    0     1       0   \n",
       "1                1                10           12        0    2     8       1   \n",
       "2                0                 2           10        0    1     2       1   \n",
       "3                3                 7           14        1    1     6       4   \n",
       "4                0                 0           16        2    1     3       0   \n",
       "\n",
       "   PhysicalTherapy  Ambulance    acuity  costTrend  monthsWithClaims  \\\n",
       "0                0          0  0.235294  -0.018856                 9   \n",
       "1                0          1  0.853591  -0.027265                21   \n",
       "2                1          0  0.175115   0.496742                20   \n",
       "3                3          3  0.709147   0.214955                19   \n",
       "4                1          0  0.174603   0.231568                21   \n",
       "\n",
       "   race_Black  race_Hispanic  race_Other  race_White  log(reimb2010+1)  \\\n",
       "0           0              0           0           1          2.592177   \n",
       "1           0              0           0           1          2.987219   \n",
       "2           0              0           0           1          3.750586   \n",
       "3           0              0           0           1          3.541704   \n",
       "4           0              0           0           1          2.964260   \n",
       "\n",
       "   log(reimb2009+1)  log(reimb2008+1)  \n",
       "0          2.557507          2.506505  \n",
       "1          3.437909          4.769385  \n",
       "2          3.198932          2.708421  \n",
       "3          4.693120          3.467016  \n",
       "4          3.217747          3.176381  "
      ]
     },
     "execution_count": 7,
     "metadata": {},
     "output_type": "execute_result"
    }
   ],
   "source": [
    "claims.head()"
   ]
  },
  {
   "cell_type": "code",
   "execution_count": 10,
   "metadata": {},
   "outputs": [],
   "source": [
    "py.fill_all_missing(claims)"
   ]
  },
  {
   "cell_type": "code",
   "execution_count": 11,
   "metadata": {},
   "outputs": [],
   "source": [
    "cols_norm = [\"age2010\", \"OfficeVisit\", \"EyeExam\", \"EKG\", \"xray\", \"CTScan\", \"PhysicalTherapy\",\n",
    "             \"Ambulance\", \"acuity\", \"costTrend\", \"monthsWithClaims\", \n",
    "             \"log(reimb2010+1)\", \"log(reimb2009+1)\", \"log(reimb2008+1)\"]"
   ]
  },
  {
   "cell_type": "code",
   "execution_count": 12,
   "metadata": {},
   "outputs": [],
   "source": [
    "train_n, test_n = py.normalize(train, test, cols_norm)"
   ]
  },
  {
   "cell_type": "code",
   "execution_count": 13,
   "metadata": {},
   "outputs": [
    {
     "data": {
      "text/html": [
       "<div>\n",
       "<style scoped>\n",
       "    .dataframe tbody tr th:only-of-type {\n",
       "        vertical-align: middle;\n",
       "    }\n",
       "\n",
       "    .dataframe tbody tr th {\n",
       "        vertical-align: top;\n",
       "    }\n",
       "\n",
       "    .dataframe thead th {\n",
       "        text-align: right;\n",
       "    }\n",
       "</style>\n",
       "<table border=\"1\" class=\"dataframe\">\n",
       "  <thead>\n",
       "    <tr style=\"text-align: right;\">\n",
       "      <th></th>\n",
       "      <th>reimb2010</th>\n",
       "      <th>reimb2008</th>\n",
       "      <th>reimb2009</th>\n",
       "      <th>age2010</th>\n",
       "      <th>male</th>\n",
       "      <th>heart.failure</th>\n",
       "      <th>kidney</th>\n",
       "      <th>cancer</th>\n",
       "      <th>copd</th>\n",
       "      <th>depression</th>\n",
       "      <th>diabetes</th>\n",
       "      <th>ihd</th>\n",
       "      <th>osteoporosis</th>\n",
       "      <th>arthritis</th>\n",
       "      <th>stroke</th>\n",
       "      <th>InpatientClaims</th>\n",
       "      <th>OutpatientClaims</th>\n",
       "      <th>OfficeVisit</th>\n",
       "      <th>EyeExam</th>\n",
       "      <th>EKG</th>\n",
       "      <th>xray</th>\n",
       "      <th>CTScan</th>\n",
       "      <th>PhysicalTherapy</th>\n",
       "      <th>Ambulance</th>\n",
       "      <th>acuity</th>\n",
       "      <th>costTrend</th>\n",
       "      <th>monthsWithClaims</th>\n",
       "      <th>race_Black</th>\n",
       "      <th>race_Hispanic</th>\n",
       "      <th>race_Other</th>\n",
       "      <th>race_White</th>\n",
       "      <th>log(reimb2010+1)</th>\n",
       "      <th>log(reimb2009+1)</th>\n",
       "      <th>log(reimb2008+1)</th>\n",
       "    </tr>\n",
       "  </thead>\n",
       "  <tbody>\n",
       "    <tr>\n",
       "      <th>94448</th>\n",
       "      <td>110</td>\n",
       "      <td>2090.0</td>\n",
       "      <td>1760</td>\n",
       "      <td>-0.094881</td>\n",
       "      <td>1</td>\n",
       "      <td>1</td>\n",
       "      <td>0</td>\n",
       "      <td>0</td>\n",
       "      <td>0</td>\n",
       "      <td>0</td>\n",
       "      <td>1</td>\n",
       "      <td>1</td>\n",
       "      <td>1</td>\n",
       "      <td>1</td>\n",
       "      <td>1</td>\n",
       "      <td>0</td>\n",
       "      <td>9</td>\n",
       "      <td>0.721826</td>\n",
       "      <td>0.526405</td>\n",
       "      <td>0.317514</td>\n",
       "      <td>1.172542</td>\n",
       "      <td>0.745774</td>\n",
       "      <td>0.656585</td>\n",
       "      <td>-0.384909</td>\n",
       "      <td>-0.867864</td>\n",
       "      <td>-0.166693</td>\n",
       "      <td>0.930400</td>\n",
       "      <td>0</td>\n",
       "      <td>0</td>\n",
       "      <td>0</td>\n",
       "      <td>1</td>\n",
       "      <td>-0.489012</td>\n",
       "      <td>0.243788</td>\n",
       "      <td>0.434929</td>\n",
       "    </tr>\n",
       "    <tr>\n",
       "      <th>82322</th>\n",
       "      <td>0</td>\n",
       "      <td>330.0</td>\n",
       "      <td>350</td>\n",
       "      <td>-3.647940</td>\n",
       "      <td>0</td>\n",
       "      <td>0</td>\n",
       "      <td>0</td>\n",
       "      <td>0</td>\n",
       "      <td>0</td>\n",
       "      <td>0</td>\n",
       "      <td>0</td>\n",
       "      <td>0</td>\n",
       "      <td>0</td>\n",
       "      <td>0</td>\n",
       "      <td>0</td>\n",
       "      <td>0</td>\n",
       "      <td>0</td>\n",
       "      <td>-1.040738</td>\n",
       "      <td>-0.685207</td>\n",
       "      <td>-0.759058</td>\n",
       "      <td>-0.480362</td>\n",
       "      <td>0.054735</td>\n",
       "      <td>-0.634844</td>\n",
       "      <td>-0.070351</td>\n",
       "      <td>0.369275</td>\n",
       "      <td>-0.506059</td>\n",
       "      <td>-1.051994</td>\n",
       "      <td>0</td>\n",
       "      <td>0</td>\n",
       "      <td>0</td>\n",
       "      <td>1</td>\n",
       "      <td>-2.126832</td>\n",
       "      <td>-0.311882</td>\n",
       "      <td>-0.152792</td>\n",
       "    </tr>\n",
       "  </tbody>\n",
       "</table>\n",
       "</div>"
      ],
      "text/plain": [
       "       reimb2010  reimb2008  reimb2009   age2010  male  heart.failure  kidney  \\\n",
       "94448        110     2090.0       1760 -0.094881     1              1       0   \n",
       "82322          0      330.0        350 -3.647940     0              0       0   \n",
       "\n",
       "       cancer  copd  depression  diabetes  ihd  osteoporosis  arthritis  \\\n",
       "94448       0     0           0         1    1             1          1   \n",
       "82322       0     0           0         0    0             0          0   \n",
       "\n",
       "       stroke  InpatientClaims  OutpatientClaims  OfficeVisit   EyeExam  \\\n",
       "94448       1                0                 9     0.721826  0.526405   \n",
       "82322       0                0                 0    -1.040738 -0.685207   \n",
       "\n",
       "            EKG      xray    CTScan  PhysicalTherapy  Ambulance    acuity  \\\n",
       "94448  0.317514  1.172542  0.745774         0.656585  -0.384909 -0.867864   \n",
       "82322 -0.759058 -0.480362  0.054735        -0.634844  -0.070351  0.369275   \n",
       "\n",
       "       costTrend  monthsWithClaims  race_Black  race_Hispanic  race_Other  \\\n",
       "94448  -0.166693          0.930400           0              0           0   \n",
       "82322  -0.506059         -1.051994           0              0           0   \n",
       "\n",
       "       race_White  log(reimb2010+1)  log(reimb2009+1)  log(reimb2008+1)  \n",
       "94448           1         -0.489012          0.243788          0.434929  \n",
       "82322           1         -2.126832         -0.311882         -0.152792  "
      ]
     },
     "execution_count": 13,
     "metadata": {},
     "output_type": "execute_result"
    }
   ],
   "source": [
    "train_n.head(2)"
   ]
  },
  {
   "cell_type": "code",
   "execution_count": 14,
   "metadata": {},
   "outputs": [],
   "source": [
    "train_features = train_n.loc[:,'age2010':'log(reimb2008+1)'].drop(columns = [\"log(reimb2010+1)\"])\n",
    "train_targets = train.loc[:,'log(reimb2010+1)']\n",
    "test_features = test_n.loc[:,'age2010':'log(reimb2008+1)'].drop(columns = [\"log(reimb2010+1)\"])\n",
    "test_targets = test.loc[:,\"log(reimb2010+1)\"]"
   ]
  },
  {
   "cell_type": "code",
   "execution_count": 35,
   "metadata": {},
   "outputs": [
    {
     "data": {
      "text/html": [
       "<div>\n",
       "<style scoped>\n",
       "    .dataframe tbody tr th:only-of-type {\n",
       "        vertical-align: middle;\n",
       "    }\n",
       "\n",
       "    .dataframe tbody tr th {\n",
       "        vertical-align: top;\n",
       "    }\n",
       "\n",
       "    .dataframe thead th {\n",
       "        text-align: right;\n",
       "    }\n",
       "</style>\n",
       "<table border=\"1\" class=\"dataframe\">\n",
       "  <thead>\n",
       "    <tr style=\"text-align: right;\">\n",
       "      <th></th>\n",
       "      <th>age2010</th>\n",
       "      <th>male</th>\n",
       "      <th>heart.failure</th>\n",
       "      <th>kidney</th>\n",
       "      <th>cancer</th>\n",
       "      <th>copd</th>\n",
       "      <th>depression</th>\n",
       "      <th>diabetes</th>\n",
       "      <th>ihd</th>\n",
       "      <th>osteoporosis</th>\n",
       "      <th>arthritis</th>\n",
       "      <th>stroke</th>\n",
       "      <th>InpatientClaims</th>\n",
       "      <th>OutpatientClaims</th>\n",
       "      <th>OfficeVisit</th>\n",
       "      <th>EyeExam</th>\n",
       "      <th>EKG</th>\n",
       "      <th>xray</th>\n",
       "      <th>CTScan</th>\n",
       "      <th>PhysicalTherapy</th>\n",
       "      <th>Ambulance</th>\n",
       "      <th>acuity</th>\n",
       "      <th>costTrend</th>\n",
       "      <th>monthsWithClaims</th>\n",
       "      <th>race_Black</th>\n",
       "      <th>race_Hispanic</th>\n",
       "      <th>race_Other</th>\n",
       "      <th>race_White</th>\n",
       "      <th>log(reimb2009+1)</th>\n",
       "      <th>log(reimb2008+1)</th>\n",
       "    </tr>\n",
       "  </thead>\n",
       "  <tbody>\n",
       "    <tr>\n",
       "      <th>94448</th>\n",
       "      <td>-0.094881</td>\n",
       "      <td>1</td>\n",
       "      <td>1</td>\n",
       "      <td>0</td>\n",
       "      <td>0</td>\n",
       "      <td>0</td>\n",
       "      <td>0</td>\n",
       "      <td>1</td>\n",
       "      <td>1</td>\n",
       "      <td>1</td>\n",
       "      <td>1</td>\n",
       "      <td>1</td>\n",
       "      <td>0</td>\n",
       "      <td>9</td>\n",
       "      <td>0.721826</td>\n",
       "      <td>0.526405</td>\n",
       "      <td>0.317514</td>\n",
       "      <td>1.172542</td>\n",
       "      <td>0.745774</td>\n",
       "      <td>0.656585</td>\n",
       "      <td>-0.384909</td>\n",
       "      <td>-0.867864</td>\n",
       "      <td>-0.166693</td>\n",
       "      <td>0.930400</td>\n",
       "      <td>0</td>\n",
       "      <td>0</td>\n",
       "      <td>0</td>\n",
       "      <td>1</td>\n",
       "      <td>0.243788</td>\n",
       "      <td>0.434929</td>\n",
       "    </tr>\n",
       "    <tr>\n",
       "      <th>82322</th>\n",
       "      <td>-3.647940</td>\n",
       "      <td>0</td>\n",
       "      <td>0</td>\n",
       "      <td>0</td>\n",
       "      <td>0</td>\n",
       "      <td>0</td>\n",
       "      <td>0</td>\n",
       "      <td>0</td>\n",
       "      <td>0</td>\n",
       "      <td>0</td>\n",
       "      <td>0</td>\n",
       "      <td>0</td>\n",
       "      <td>0</td>\n",
       "      <td>0</td>\n",
       "      <td>-1.040738</td>\n",
       "      <td>-0.685207</td>\n",
       "      <td>-0.759058</td>\n",
       "      <td>-0.480362</td>\n",
       "      <td>0.054735</td>\n",
       "      <td>-0.634844</td>\n",
       "      <td>-0.070351</td>\n",
       "      <td>0.369275</td>\n",
       "      <td>-0.506059</td>\n",
       "      <td>-1.051994</td>\n",
       "      <td>0</td>\n",
       "      <td>0</td>\n",
       "      <td>0</td>\n",
       "      <td>1</td>\n",
       "      <td>-0.311882</td>\n",
       "      <td>-0.152792</td>\n",
       "    </tr>\n",
       "  </tbody>\n",
       "</table>\n",
       "</div>"
      ],
      "text/plain": [
       "        age2010  male  heart.failure  kidney  cancer  copd  depression  \\\n",
       "94448 -0.094881     1              1       0       0     0           0   \n",
       "82322 -3.647940     0              0       0       0     0           0   \n",
       "\n",
       "       diabetes  ihd  osteoporosis  arthritis  stroke  InpatientClaims  \\\n",
       "94448         1    1             1          1       1                0   \n",
       "82322         0    0             0          0       0                0   \n",
       "\n",
       "       OutpatientClaims  OfficeVisit   EyeExam       EKG      xray    CTScan  \\\n",
       "94448                 9     0.721826  0.526405  0.317514  1.172542  0.745774   \n",
       "82322                 0    -1.040738 -0.685207 -0.759058 -0.480362  0.054735   \n",
       "\n",
       "       PhysicalTherapy  Ambulance    acuity  costTrend  monthsWithClaims  \\\n",
       "94448         0.656585  -0.384909 -0.867864  -0.166693          0.930400   \n",
       "82322        -0.634844  -0.070351  0.369275  -0.506059         -1.051994   \n",
       "\n",
       "       race_Black  race_Hispanic  race_Other  race_White  log(reimb2009+1)  \\\n",
       "94448           0              0           0           1          0.243788   \n",
       "82322           0              0           0           1         -0.311882   \n",
       "\n",
       "       log(reimb2008+1)  \n",
       "94448          0.434929  \n",
       "82322         -0.152792  "
      ]
     },
     "execution_count": 35,
     "metadata": {},
     "output_type": "execute_result"
    }
   ],
   "source": [
    "train_features.head(2)"
   ]
  },
  {
   "cell_type": "code",
   "execution_count": 36,
   "metadata": {},
   "outputs": [],
   "source": [
    "ev = {}"
   ]
  },
  {
   "cell_type": "code",
   "execution_count": 37,
   "metadata": {},
   "outputs": [],
   "source": [
    "def metrics(target_predict,test_targets,train_features,train_targets,regr,output=True):\n",
    "    \n",
    "    bias = mean_squared_error(regr.predict(train_features),train_targets)\n",
    "    mse = mean_squared_error(target_predict,test_targets)\n",
    "    rss = np.sum((target_predict - test_targets) ** 2)\n",
    "    variance = regr.score(train_features, train_targets)\n",
    "    \n",
    "    if output:\n",
    "        print(\"Bias: %.2f\" % bias)   \n",
    "        print(\"Mean squared error: %.2f\" % mse)\n",
    "        print(\"RSS: %.2f\" % rss)\n",
    "        print('Variance score: %.2f\\n' % variance)\n",
    "    \n",
    "    return(bias,mse,rss,variance)"
   ]
  },
  {
   "cell_type": "markdown",
   "metadata": {},
   "source": [
    "## Lasso Regression"
   ]
  },
  {
   "cell_type": "code",
   "execution_count": 39,
   "metadata": {},
   "outputs": [],
   "source": [
    "ls = linear_model.Lasso()\n",
    "params_lasso = {'alpha':[0.5, 0.25, 0.1,0.01]}\n",
    "Lasso_GS = GridSearchCV(ls, param_grid=params_lasso, n_jobs=-1, scoring='neg_mean_squared_error')\n",
    "Lasso_GS.fit(train_features,train_targets)\n",
    "best_lasso = Lasso_GS.best_params_"
   ]
  },
  {
   "cell_type": "code",
   "execution_count": 40,
   "metadata": {},
   "outputs": [
    {
     "data": {
      "text/plain": [
       "{'alpha': 0.01}"
      ]
     },
     "execution_count": 40,
     "metadata": {},
     "output_type": "execute_result"
    }
   ],
   "source": [
    "best_lasso"
   ]
  },
  {
   "cell_type": "code",
   "execution_count": 41,
   "metadata": {},
   "outputs": [
    {
     "name": "stdout",
     "output_type": "stream",
     "text": [
      "['age2010', 'male', 'heart.failure', 'kidney', 'cancer', 'copd', 'depression', 'diabetes', 'ihd', 'osteoporosis', 'arthritis', 'stroke', 'InpatientClaims', 'OutpatientClaims', 'OfficeVisit', 'EyeExam', 'EKG', 'xray', 'CTScan', 'PhysicalTherapy', 'Ambulance', 'acuity', 'costTrend', 'monthsWithClaims', 'race_Black', 'race_Hispanic', 'race_Other', 'race_White', 'log(reimb2009+1)', 'log(reimb2008+1)'] \n",
      "\n",
      "\n",
      "[ 0.00000000e+00 -0.00000000e+00  0.00000000e+00 -0.00000000e+00\n",
      " -0.00000000e+00 -0.00000000e+00  0.00000000e+00  0.00000000e+00\n",
      "  0.00000000e+00  0.00000000e+00 -0.00000000e+00 -0.00000000e+00\n",
      " -7.50463694e-02 -4.27019045e-04 -2.49566244e-02 -2.83511417e-03\n",
      " -0.00000000e+00 -1.22327732e-03 -0.00000000e+00 -2.27098415e-03\n",
      " -0.00000000e+00 -8.96543083e-02  5.64322600e-02  2.83463633e-01\n",
      " -0.00000000e+00 -0.00000000e+00 -0.00000000e+00  0.00000000e+00\n",
      "  4.59523023e-01  3.23292614e-01]\n",
      "\n"
     ]
    }
   ],
   "source": [
    "print(list(train_features), '\\n\\n')\n",
    "ls = linear_model.Lasso(alpha=best_lasso[\"alpha\"])\n",
    "ls.fit(train_features,train_targets)\n",
    "target_predict = ls.predict(test_features)\n",
    "print('{}\\n'.format(ls.coef_))"
   ]
  },
  {
   "cell_type": "code",
   "execution_count": 42,
   "metadata": {},
   "outputs": [
    {
     "name": "stdout",
     "output_type": "stream",
     "text": [
      "Bias: 0.61\n",
      "Mean squared error: 0.61\n",
      "RSS: 125915.36\n",
      "Variance score: 0.61\n",
      "\n"
     ]
    }
   ],
   "source": [
    "ev[\"Lasso\"] = metrics(target_predict,test_targets,train_features,train_targets,ls)"
   ]
  },
  {
   "cell_type": "code",
   "execution_count": 43,
   "metadata": {},
   "outputs": [],
   "source": [
    "coefs = ls.coef_"
   ]
  },
  {
   "cell_type": "code",
   "execution_count": 44,
   "metadata": {},
   "outputs": [],
   "source": [
    "train_features_cols = list(train_features)"
   ]
  },
  {
   "cell_type": "code",
   "execution_count": 45,
   "metadata": {},
   "outputs": [],
   "source": [
    "coef_results = pd.DataFrame.from_dict(dict(zip(train_features_cols, coefs)), orient = \"index\", columns = [\"Coef\"]).reset_index()"
   ]
  },
  {
   "cell_type": "code",
   "execution_count": 46,
   "metadata": {},
   "outputs": [],
   "source": [
    "coef_results.rename(columns = {\"index\": \"variable\"}, inplace = True)"
   ]
  },
  {
   "cell_type": "code",
   "execution_count": 47,
   "metadata": {
    "scrolled": false
   },
   "outputs": [
    {
     "data": {
      "text/plain": [
       "Text(0, 0.5, 'Coefficent')"
      ]
     },
     "execution_count": 47,
     "metadata": {},
     "output_type": "execute_result"
    },
    {
     "data": {
      "image/png": "[encoded data removed]",
      "text/plain": [
       "<Figure size 842.4x595.44 with 1 Axes>"
      ]
     },
     "metadata": {},
     "output_type": "display_data"
    }
   ],
   "source": [
    "sns.set(rc={'figure.figsize':(11.7,8.27)})\n",
    "sns.barplot(y = \"variable\", x = \"Coef\", data = coef_results, \n",
    "            order=coef_results.sort_values('Coef', ascending = False)[\"variable\"])\n",
    "plt.xlabel(\"Variable\", size=15)\n",
    "plt.ylabel(\"Coefficent\", size=15)"
   ]
  },
  {
   "cell_type": "markdown",
   "metadata": {},
   "source": [
    "## Ridge Regression"
   ]
  },
  {
   "cell_type": "code",
   "execution_count": 48,
   "metadata": {},
   "outputs": [],
   "source": [
    "rg = linear_model.Ridge()\n",
    "params_Ridge = {'alpha': [0.5, 0.25, 0.1,0.01]}\n",
    "Ridge_GS = GridSearchCV(rg, param_grid=params_Ridge, n_jobs=-1, scoring='neg_mean_squared_error')\n",
    "Ridge_GS.fit(train_features,train_targets)\n",
    "best_rigde = Ridge_GS.best_params_"
   ]
  },
  {
   "cell_type": "code",
   "execution_count": 49,
   "metadata": {},
   "outputs": [
    {
     "name": "stdout",
     "output_type": "stream",
     "text": [
      "['age2010', 'male', 'heart.failure', 'kidney', 'cancer', 'copd', 'depression', 'diabetes', 'ihd', 'osteoporosis', 'arthritis', 'stroke', 'InpatientClaims', 'OutpatientClaims', 'OfficeVisit', 'EyeExam', 'EKG', 'xray', 'CTScan', 'PhysicalTherapy', 'Ambulance', 'acuity', 'costTrend', 'monthsWithClaims', 'race_Black', 'race_Hispanic', 'race_Other', 'race_White', 'log(reimb2009+1)', 'log(reimb2008+1)'] \n",
      "\n",
      "\n",
      "[ 6.25311725e-03 -8.16574056e-03  2.76277251e-03 -1.25265723e-02\n",
      " -1.74380483e-02 -4.47327298e-03  4.55073389e-04  3.58752517e-02\n",
      "  3.73462385e-02 -3.40125652e-04 -6.45023232e-04 -3.14314770e-02\n",
      " -7.82345546e-02 -2.43820834e-03 -5.72546372e-02 -1.84933599e-02\n",
      " -4.51189932e-03 -8.06105322e-03 -2.07852014e-03 -1.01690519e-02\n",
      "  4.88806544e-03 -1.05275364e-01  6.44848820e-02  3.09457343e-01\n",
      " -3.88315986e-03 -4.81424851e-03 -7.94211019e-03  1.66395191e-02\n",
      "  4.62662337e-01  3.37586279e-01]\n",
      "\n"
     ]
    }
   ],
   "source": [
    "rg = linear_model.Ridge(alpha = best_rigde[\"alpha\"])\n",
    "print(list(train_features), '\\n\\n')\n",
    "rg.fit(train_features,train_targets)\n",
    "target_predict = rg.predict(test_features)\n",
    "print('{}\\n'.format(rg.coef_))"
   ]
  },
  {
   "cell_type": "code",
   "execution_count": 50,
   "metadata": {},
   "outputs": [],
   "source": [
    "coefs_r = rg.coef_"
   ]
  },
  {
   "cell_type": "code",
   "execution_count": 51,
   "metadata": {},
   "outputs": [],
   "source": [
    "coef_results_r = pd.DataFrame.from_dict(dict(zip(train_features_cols, coefs_r)),\n",
    "                                        orient = \"index\", columns = [\"Coef\"]).reset_index()"
   ]
  },
  {
   "cell_type": "code",
   "execution_count": 52,
   "metadata": {},
   "outputs": [],
   "source": [
    "coef_results_r.rename(columns = {\"index\": \"variable\"}, inplace = True)"
   ]
  },
  {
   "cell_type": "code",
   "execution_count": 53,
   "metadata": {},
   "outputs": [
    {
     "data": {
      "text/plain": [
       "Text(0, 0.5, 'Coefficent')"
      ]
     },
     "execution_count": 53,
     "metadata": {},
     "output_type": "execute_result"
    },
    {
     "data": {
      "image/png": "[encoded data removed]",
      "text/plain": [
       "<Figure size 842.4x595.44 with 1 Axes>"
      ]
     },
     "metadata": {},
     "output_type": "display_data"
    }
   ],
   "source": [
    "sns.set(rc={'figure.figsize':(11.7,8.27)})\n",
    "sns.barplot(y = \"variable\", x = \"Coef\", data = coef_results_r, \n",
    "            order=coef_results_r.sort_values('Coef', ascending = False)[\"variable\"])\n",
    "plt.xlabel(\"Variable\", size=15)\n",
    "plt.ylabel(\"Coefficent\", size=15)"
   ]
  },
  {
   "cell_type": "code",
   "execution_count": 54,
   "metadata": {},
   "outputs": [
    {
     "name": "stdout",
     "output_type": "stream",
     "text": [
      "Bias: 0.61\n",
      "Mean squared error: 0.61\n",
      "RSS: 125466.20\n",
      "Variance score: 0.61\n",
      "\n"
     ]
    }
   ],
   "source": [
    "ev[\"Ridge\"] = metrics(target_predict,test_targets,train_features,train_targets,rg)"
   ]
  },
  {
   "cell_type": "markdown",
   "metadata": {},
   "source": [
    "## Elastic Net"
   ]
  },
  {
   "cell_type": "code",
   "execution_count": 55,
   "metadata": {},
   "outputs": [],
   "source": [
    "EN = linear_model.ElasticNet()\n",
    "params_EN = {'alpha':[0.5, 0.25, 0.1,0.01]}\n",
    "EN_GS = GridSearchCV(EN, param_grid=params_EN, n_jobs=-1, scoring='neg_mean_squared_error')\n",
    "EN_GS.fit(train_features,train_targets)\n",
    "best_EN = EN_GS.best_params_"
   ]
  },
  {
   "cell_type": "code",
   "execution_count": 56,
   "metadata": {},
   "outputs": [
    {
     "name": "stdout",
     "output_type": "stream",
     "text": [
      "['age2010', 'male', 'heart.failure', 'kidney', 'cancer', 'copd', 'depression', 'diabetes', 'ihd', 'osteoporosis', 'arthritis', 'stroke', 'InpatientClaims', 'OutpatientClaims', 'OfficeVisit', 'EyeExam', 'EKG', 'xray', 'CTScan', 'PhysicalTherapy', 'Ambulance', 'acuity', 'costTrend', 'monthsWithClaims', 'race_Black', 'race_Hispanic', 'race_Other', 'race_White', 'log(reimb2009+1)', 'log(reimb2008+1)'] \n",
      "\n",
      "\n",
      "[ 0.00176082 -0.          0.         -0.         -0.         -0.\n",
      "  0.          0.00666475  0.01407512  0.         -0.         -0.\n",
      " -0.07697936 -0.00116353 -0.03897786 -0.00982601 -0.00098899 -0.0054224\n",
      " -0.00096462 -0.00621115 -0.         -0.09521878  0.06235371  0.30021025\n",
      " -0.         -0.         -0.          0.          0.45404391  0.33144255]\n",
      "\n"
     ]
    }
   ],
   "source": [
    "print(list(train_features), '\\n\\n')\n",
    "en = linear_model.ElasticNet(alpha=best_EN[\"alpha\"])\n",
    "en.fit(train_features,train_targets)\n",
    "target_predict = en.predict(test_features)\n",
    "print('{}\\n'.format(en.coef_))"
   ]
  },
  {
   "cell_type": "code",
   "execution_count": 57,
   "metadata": {},
   "outputs": [],
   "source": [
    "coefs_en = en.coef_"
   ]
  },
  {
   "cell_type": "code",
   "execution_count": 58,
   "metadata": {},
   "outputs": [],
   "source": [
    "coef_results_en = pd.DataFrame.from_dict(dict(zip(train_features_cols, coefs_en)),\n",
    "                                         orient = \"index\", columns = [\"Coef\"]).reset_index()"
   ]
  },
  {
   "cell_type": "code",
   "execution_count": 59,
   "metadata": {},
   "outputs": [],
   "source": [
    "coef_results_en.rename(columns = {\"index\": \"variable\"}, inplace = True)"
   ]
  },
  {
   "cell_type": "code",
   "execution_count": 60,
   "metadata": {},
   "outputs": [
    {
     "data": {
      "text/plain": [
       "Text(0, 0.5, 'Coefficent')"
      ]
     },
     "execution_count": 60,
     "metadata": {},
     "output_type": "execute_result"
    },
    {
     "data": {
      "image/png": "[encoded data removed]",
      "text/plain": [
       "<Figure size 842.4x595.44 with 1 Axes>"
      ]
     },
     "metadata": {},
     "output_type": "display_data"
    }
   ],
   "source": [
    "sns.set(rc={'figure.figsize':(11.7,8.27)})\n",
    "sns.barplot(y = \"variable\", x = \"Coef\", data = coef_results_en, \n",
    "            order=coef_results_en.sort_values('Coef', ascending = False)[\"variable\"])\n",
    "plt.xlabel(\"Variable\", size=15)\n",
    "plt.ylabel(\"Coefficent\", size=15)"
   ]
  },
  {
   "cell_type": "code",
   "execution_count": 61,
   "metadata": {},
   "outputs": [
    {
     "name": "stdout",
     "output_type": "stream",
     "text": [
      "Bias: 0.61\n",
      "Mean squared error: 0.61\n",
      "RSS: 125652.18\n",
      "Variance score: 0.61\n",
      "\n"
     ]
    }
   ],
   "source": [
    "ev[\"Elastic Net\"] = metrics(target_predict,test_targets,train_features,train_targets,en)"
   ]
  },
  {
   "cell_type": "markdown",
   "metadata": {},
   "source": [
    "## Linear Regression with the Most Important Parameters"
   ]
  },
  {
   "cell_type": "code",
   "execution_count": 67,
   "metadata": {},
   "outputs": [
    {
     "name": "stdout",
     "output_type": "stream",
     "text": [
      "Subset (Manual)\n",
      "[ 0.43465436  0.20338559  0.03689392 -0.00892189 -0.44038475 -0.09338705]\n",
      "\n",
      "Bias: 0.61\n",
      "Mean squared error: 0.62\n",
      "RSS: 126231.03\n",
      "Variance score: 0.61\n",
      "\n"
     ]
    }
   ],
   "source": [
    "name = 'Subset (Manual)'\n",
    "sregr = linear_model.LinearRegression()\n",
    "\n",
    "# Train on fewer coefficients. \n",
    "train_features_small = train.loc[:,['log(reimb2009+1)','log(reimb2008+1)','monthsWithClaims',\n",
    "                                       'OfficeVisit', 'acuity', 'InpatientClaims']]\n",
    "test_features_small = test.loc[:,['log(reimb2009+1)','log(reimb2008+1)','monthsWithClaims',\n",
    "                                       'OfficeVisit', 'acuity', 'InpatientClaims']]\n",
    "sregr.fit(train_features_small,train_targets)\n",
    "target_predict_small = sregr.predict(test_features_small)\n",
    "\n",
    "print('{}\\n{}\\n'.format(name,sregr.coef_))\n",
    "\n",
    "ev['Subset (Manual)'] = metrics(target_predict_small,test_targets,train_features_small,train_targets,sregr)"
   ]
  },
  {
   "cell_type": "code",
   "execution_count": 69,
   "metadata": {},
   "outputs": [
    {
     "data": {
      "image/png": "[encoded data removed]",
      "text/plain": [
       "<Figure size 720x360 with 1 Axes>"
      ]
     },
     "metadata": {},
     "output_type": "display_data"
    }
   ],
   "source": [
    "plt.rcParams['figure.figsize'] = [10, 5]\n",
    "\n",
    "mdf = pd.DataFrame(ev).transpose()\n",
    "\n",
    "mdf.index.name = 'Type'\n",
    "mdf.rename(columns={0:'Bias',1:'MSE',2:'RSS',3:'Variance'},inplace=True)\n",
    "mdf.sort_values(by=['Bias'],inplace=True)\n",
    "\n",
    "labels = mdf.index.values\n",
    "x = np.arange(len(labels))\n",
    "width = 0.35  \n",
    "\n",
    "fix, ax = plt.subplots()\n",
    "rects = ax.bar(x - width/3, mdf['Bias'], width/3, label='Bias')\n",
    "rects = ax.bar(x, mdf['Variance'], width/3, label='Variance')\n",
    "rects = ax.bar(x + width/3, mdf['MSE'], width/3, label='MSE')\n",
    "\n",
    "ax.set_xticks(x)\n",
    "ax.set_xticklabels(labels, rotation=45)\n",
    "ax.legend()\n",
    "plt.show()"
   ]
  }
 ],
 "metadata": {
  "kernelspec": {
   "display_name": "Python 3",
   "language": "python",
   "name": "python3"
  },
  "language_info": {
   "codemirror_mode": {
    "name": "ipython",
    "version": 3
   },
   "file_extension": ".py",
   "mimetype": "text/x-python",
   "name": "python",
   "nbconvert_exporter": "python",
   "pygments_lexer": "ipython3",
   "version": "3.8.3"
  }
 },
 "nbformat": 4,
 "nbformat_minor": 4
}
