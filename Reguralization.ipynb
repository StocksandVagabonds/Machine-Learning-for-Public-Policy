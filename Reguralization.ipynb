{
 "cells": [
  {
   "cell_type": "code",
   "execution_count": 2,
   "metadata": {},
   "outputs": [],
   "source": [
    "import pandas as pd\n",
    "import os\n",
    "import numpy as np\n",
    "%load_ext autoreload\n",
    "%autoreload 2\n",
    "import pipeline as pipe\n",
    "from sklearn import datasets, linear_model\n",
    "from sklearn.metrics import mean_squared_error, r2_score\n",
    "from sklearn.preprocessing import StandardScaler"
   ]
  },
  {
   "cell_type": "code",
   "execution_count": 33,
   "metadata": {},
   "outputs": [],
   "source": [
    "import seaborn as sns\n",
    "import matplotlib.pyplot as plt\n",
    "%matplotlib inline\n",
    "sns.set(rc={'figure.figsize':(11, 4)})"
   ]
  },
  {
   "cell_type": "markdown",
   "metadata": {},
   "source": [
    "## Reading the Data"
   ]
  },
  {
   "cell_type": "code",
   "execution_count": 3,
   "metadata": {},
   "outputs": [],
   "source": [
    "claims = pipe.read_all()"
   ]
  },
  {
   "cell_type": "markdown",
   "metadata": {},
   "source": [
    "## Data Preperation"
   ]
  },
  {
   "cell_type": "code",
   "execution_count": 4,
   "metadata": {},
   "outputs": [],
   "source": [
    "claims = pipe.log_transform(claims, ['reimb2010','reimb2009','reimb2008'])"
   ]
  },
  {
   "cell_type": "code",
   "execution_count": 5,
   "metadata": {},
   "outputs": [],
   "source": [
    "claims[\"race\"] = claims[\"race\"].str.replace(\"Block\", \"Black\")"
   ]
  },
  {
   "cell_type": "code",
   "execution_count": 6,
   "metadata": {},
   "outputs": [],
   "source": [
    "claims = claims.drop(columns = [\"Unnamed: 0\"])"
   ]
  },
  {
   "cell_type": "code",
   "execution_count": 8,
   "metadata": {},
   "outputs": [],
   "source": [
    "claims = pipe.onehot(claims, [\"race\"])"
   ]
  },
  {
   "cell_type": "code",
   "execution_count": 10,
   "metadata": {},
   "outputs": [],
   "source": [
    "train, test = pipe.train_test(claims, 0.2, random_ = 5597)"
   ]
  },
  {
   "cell_type": "code",
   "execution_count": 11,
   "metadata": {},
   "outputs": [],
   "source": [
    "pipe.fill_all_missing(claims)"
   ]
  },
  {
   "cell_type": "code",
   "execution_count": 18,
   "metadata": {},
   "outputs": [],
   "source": [
    "cols_norm = [\"acuity\", \"costTrend\", \"monthsWithClaims\", \n",
    "             \"log(reimb2009+ 1)\", \"log(reimb2010+ 1)\", \"log(reimb2008+ 1)\"]"
   ]
  },
  {
   "cell_type": "code",
   "execution_count": 19,
   "metadata": {},
   "outputs": [],
   "source": [
    "train_n, test_n = pipe.normalize(train, test, cols_norm)"
   ]
  },
  {
   "cell_type": "code",
   "execution_count": 20,
   "metadata": {},
   "outputs": [
    {
     "data": {
      "text/html": [
       "<div>\n",
       "<style scoped>\n",
       "    .dataframe tbody tr th:only-of-type {\n",
       "        vertical-align: middle;\n",
       "    }\n",
       "\n",
       "    .dataframe tbody tr th {\n",
       "        vertical-align: top;\n",
       "    }\n",
       "\n",
       "    .dataframe thead th {\n",
       "        text-align: right;\n",
       "    }\n",
       "</style>\n",
       "<table border=\"1\" class=\"dataframe\">\n",
       "  <thead>\n",
       "    <tr style=\"text-align: right;\">\n",
       "      <th></th>\n",
       "      <th>age2010</th>\n",
       "      <th>male</th>\n",
       "      <th>heart.failure</th>\n",
       "      <th>kidney</th>\n",
       "      <th>cancer</th>\n",
       "      <th>copd</th>\n",
       "      <th>depression</th>\n",
       "      <th>diabetes</th>\n",
       "      <th>ihd</th>\n",
       "      <th>osteoporosis</th>\n",
       "      <th>...</th>\n",
       "      <th>acuity</th>\n",
       "      <th>costTrend</th>\n",
       "      <th>monthsWithClaims</th>\n",
       "      <th>log(reimb2010+ 1)</th>\n",
       "      <th>log(reimb2009+ 1)</th>\n",
       "      <th>log(reimb2008+ 1)</th>\n",
       "      <th>race_Black</th>\n",
       "      <th>race_Hispanic</th>\n",
       "      <th>race_Other</th>\n",
       "      <th>race_White</th>\n",
       "    </tr>\n",
       "  </thead>\n",
       "  <tbody>\n",
       "    <tr>\n",
       "      <th>94448</th>\n",
       "      <td>72</td>\n",
       "      <td>1</td>\n",
       "      <td>1</td>\n",
       "      <td>0</td>\n",
       "      <td>0</td>\n",
       "      <td>0</td>\n",
       "      <td>0</td>\n",
       "      <td>1</td>\n",
       "      <td>1</td>\n",
       "      <td>1</td>\n",
       "      <td>...</td>\n",
       "      <td>-0.867864</td>\n",
       "      <td>-0.166693</td>\n",
       "      <td>0.930400</td>\n",
       "      <td>-0.489012</td>\n",
       "      <td>0.243788</td>\n",
       "      <td>0.434929</td>\n",
       "      <td>0</td>\n",
       "      <td>0</td>\n",
       "      <td>0</td>\n",
       "      <td>1</td>\n",
       "    </tr>\n",
       "    <tr>\n",
       "      <th>82322</th>\n",
       "      <td>28</td>\n",
       "      <td>0</td>\n",
       "      <td>0</td>\n",
       "      <td>0</td>\n",
       "      <td>0</td>\n",
       "      <td>0</td>\n",
       "      <td>0</td>\n",
       "      <td>0</td>\n",
       "      <td>0</td>\n",
       "      <td>0</td>\n",
       "      <td>...</td>\n",
       "      <td>0.369275</td>\n",
       "      <td>-0.506059</td>\n",
       "      <td>-1.051994</td>\n",
       "      <td>-2.126832</td>\n",
       "      <td>-0.311882</td>\n",
       "      <td>-0.152792</td>\n",
       "      <td>0</td>\n",
       "      <td>0</td>\n",
       "      <td>0</td>\n",
       "      <td>1</td>\n",
       "    </tr>\n",
       "    <tr>\n",
       "      <th>15975</th>\n",
       "      <td>83</td>\n",
       "      <td>0</td>\n",
       "      <td>0</td>\n",
       "      <td>0</td>\n",
       "      <td>0</td>\n",
       "      <td>0</td>\n",
       "      <td>0</td>\n",
       "      <td>1</td>\n",
       "      <td>0</td>\n",
       "      <td>0</td>\n",
       "      <td>...</td>\n",
       "      <td>-0.220050</td>\n",
       "      <td>2.165657</td>\n",
       "      <td>-1.299793</td>\n",
       "      <td>-2.126832</td>\n",
       "      <td>-0.471269</td>\n",
       "      <td>-2.002770</td>\n",
       "      <td>0</td>\n",
       "      <td>0</td>\n",
       "      <td>0</td>\n",
       "      <td>1</td>\n",
       "    </tr>\n",
       "    <tr>\n",
       "      <th>147</th>\n",
       "      <td>89</td>\n",
       "      <td>0</td>\n",
       "      <td>0</td>\n",
       "      <td>0</td>\n",
       "      <td>0</td>\n",
       "      <td>0</td>\n",
       "      <td>0</td>\n",
       "      <td>0</td>\n",
       "      <td>0</td>\n",
       "      <td>0</td>\n",
       "      <td>...</td>\n",
       "      <td>0.307241</td>\n",
       "      <td>0.591755</td>\n",
       "      <td>-1.423693</td>\n",
       "      <td>-0.431398</td>\n",
       "      <td>-0.817075</td>\n",
       "      <td>-0.907859</td>\n",
       "      <td>0</td>\n",
       "      <td>1</td>\n",
       "      <td>0</td>\n",
       "      <td>0</td>\n",
       "    </tr>\n",
       "    <tr>\n",
       "      <th>58640</th>\n",
       "      <td>80</td>\n",
       "      <td>1</td>\n",
       "      <td>1</td>\n",
       "      <td>0</td>\n",
       "      <td>1</td>\n",
       "      <td>1</td>\n",
       "      <td>1</td>\n",
       "      <td>1</td>\n",
       "      <td>1</td>\n",
       "      <td>1</td>\n",
       "      <td>...</td>\n",
       "      <td>0.104608</td>\n",
       "      <td>0.626570</td>\n",
       "      <td>0.682600</td>\n",
       "      <td>0.637355</td>\n",
       "      <td>0.794980</td>\n",
       "      <td>0.339676</td>\n",
       "      <td>0</td>\n",
       "      <td>0</td>\n",
       "      <td>0</td>\n",
       "      <td>1</td>\n",
       "    </tr>\n",
       "    <tr>\n",
       "      <th>...</th>\n",
       "      <td>...</td>\n",
       "      <td>...</td>\n",
       "      <td>...</td>\n",
       "      <td>...</td>\n",
       "      <td>...</td>\n",
       "      <td>...</td>\n",
       "      <td>...</td>\n",
       "      <td>...</td>\n",
       "      <td>...</td>\n",
       "      <td>...</td>\n",
       "      <td>...</td>\n",
       "      <td>...</td>\n",
       "      <td>...</td>\n",
       "      <td>...</td>\n",
       "      <td>...</td>\n",
       "      <td>...</td>\n",
       "      <td>...</td>\n",
       "      <td>...</td>\n",
       "      <td>...</td>\n",
       "      <td>...</td>\n",
       "      <td>...</td>\n",
       "    </tr>\n",
       "    <tr>\n",
       "      <th>171339</th>\n",
       "      <td>54</td>\n",
       "      <td>1</td>\n",
       "      <td>1</td>\n",
       "      <td>0</td>\n",
       "      <td>0</td>\n",
       "      <td>0</td>\n",
       "      <td>0</td>\n",
       "      <td>0</td>\n",
       "      <td>1</td>\n",
       "      <td>1</td>\n",
       "      <td>...</td>\n",
       "      <td>-0.765140</td>\n",
       "      <td>-0.408040</td>\n",
       "      <td>0.187002</td>\n",
       "      <td>0.563753</td>\n",
       "      <td>-0.068686</td>\n",
       "      <td>0.155698</td>\n",
       "      <td>0</td>\n",
       "      <td>0</td>\n",
       "      <td>0</td>\n",
       "      <td>1</td>\n",
       "    </tr>\n",
       "    <tr>\n",
       "      <th>190255</th>\n",
       "      <td>72</td>\n",
       "      <td>0</td>\n",
       "      <td>1</td>\n",
       "      <td>0</td>\n",
       "      <td>0</td>\n",
       "      <td>0</td>\n",
       "      <td>0</td>\n",
       "      <td>1</td>\n",
       "      <td>0</td>\n",
       "      <td>0</td>\n",
       "      <td>...</td>\n",
       "      <td>1.344974</td>\n",
       "      <td>0.738402</td>\n",
       "      <td>-0.184697</td>\n",
       "      <td>0.382647</td>\n",
       "      <td>0.982075</td>\n",
       "      <td>-0.281591</td>\n",
       "      <td>0</td>\n",
       "      <td>0</td>\n",
       "      <td>0</td>\n",
       "      <td>1</td>\n",
       "    </tr>\n",
       "    <tr>\n",
       "      <th>64558</th>\n",
       "      <td>70</td>\n",
       "      <td>0</td>\n",
       "      <td>0</td>\n",
       "      <td>0</td>\n",
       "      <td>0</td>\n",
       "      <td>0</td>\n",
       "      <td>0</td>\n",
       "      <td>0</td>\n",
       "      <td>0</td>\n",
       "      <td>0</td>\n",
       "      <td>...</td>\n",
       "      <td>-1.289279</td>\n",
       "      <td>-0.389145</td>\n",
       "      <td>-1.795391</td>\n",
       "      <td>-2.126832</td>\n",
       "      <td>-2.331081</td>\n",
       "      <td>-2.002770</td>\n",
       "      <td>1</td>\n",
       "      <td>0</td>\n",
       "      <td>0</td>\n",
       "      <td>0</td>\n",
       "    </tr>\n",
       "    <tr>\n",
       "      <th>19664</th>\n",
       "      <td>68</td>\n",
       "      <td>0</td>\n",
       "      <td>1</td>\n",
       "      <td>0</td>\n",
       "      <td>0</td>\n",
       "      <td>0</td>\n",
       "      <td>0</td>\n",
       "      <td>1</td>\n",
       "      <td>1</td>\n",
       "      <td>1</td>\n",
       "      <td>...</td>\n",
       "      <td>-0.405040</td>\n",
       "      <td>-1.434122</td>\n",
       "      <td>0.806500</td>\n",
       "      <td>0.493325</td>\n",
       "      <td>0.442053</td>\n",
       "      <td>0.678665</td>\n",
       "      <td>0</td>\n",
       "      <td>0</td>\n",
       "      <td>0</td>\n",
       "      <td>1</td>\n",
       "    </tr>\n",
       "    <tr>\n",
       "      <th>2740</th>\n",
       "      <td>79</td>\n",
       "      <td>0</td>\n",
       "      <td>0</td>\n",
       "      <td>0</td>\n",
       "      <td>0</td>\n",
       "      <td>0</td>\n",
       "      <td>1</td>\n",
       "      <td>1</td>\n",
       "      <td>1</td>\n",
       "      <td>1</td>\n",
       "      <td>...</td>\n",
       "      <td>1.640480</td>\n",
       "      <td>1.299868</td>\n",
       "      <td>0.682600</td>\n",
       "      <td>0.061813</td>\n",
       "      <td>1.011534</td>\n",
       "      <td>0.376522</td>\n",
       "      <td>0</td>\n",
       "      <td>0</td>\n",
       "      <td>0</td>\n",
       "      <td>1</td>\n",
       "    </tr>\n",
       "  </tbody>\n",
       "</table>\n",
       "<p>819158 rows × 31 columns</p>\n",
       "</div>"
      ],
      "text/plain": [
       "        age2010  male  heart.failure  kidney  cancer  copd  depression  \\\n",
       "94448        72     1              1       0       0     0           0   \n",
       "82322        28     0              0       0       0     0           0   \n",
       "15975        83     0              0       0       0     0           0   \n",
       "147          89     0              0       0       0     0           0   \n",
       "58640        80     1              1       0       1     1           1   \n",
       "...         ...   ...            ...     ...     ...   ...         ...   \n",
       "171339       54     1              1       0       0     0           0   \n",
       "190255       72     0              1       0       0     0           0   \n",
       "64558        70     0              0       0       0     0           0   \n",
       "19664        68     0              1       0       0     0           0   \n",
       "2740         79     0              0       0       0     0           1   \n",
       "\n",
       "        diabetes  ihd  osteoporosis  ...    acuity  costTrend  \\\n",
       "94448          1    1             1  ... -0.867864  -0.166693   \n",
       "82322          0    0             0  ...  0.369275  -0.506059   \n",
       "15975          1    0             0  ... -0.220050   2.165657   \n",
       "147            0    0             0  ...  0.307241   0.591755   \n",
       "58640          1    1             1  ...  0.104608   0.626570   \n",
       "...          ...  ...           ...  ...       ...        ...   \n",
       "171339         0    1             1  ... -0.765140  -0.408040   \n",
       "190255         1    0             0  ...  1.344974   0.738402   \n",
       "64558          0    0             0  ... -1.289279  -0.389145   \n",
       "19664          1    1             1  ... -0.405040  -1.434122   \n",
       "2740           1    1             1  ...  1.640480   1.299868   \n",
       "\n",
       "        monthsWithClaims  log(reimb2010+ 1)  log(reimb2009+ 1)  \\\n",
       "94448           0.930400          -0.489012           0.243788   \n",
       "82322          -1.051994          -2.126832          -0.311882   \n",
       "15975          -1.299793          -2.126832          -0.471269   \n",
       "147            -1.423693          -0.431398          -0.817075   \n",
       "58640           0.682600           0.637355           0.794980   \n",
       "...                  ...                ...                ...   \n",
       "171339          0.187002           0.563753          -0.068686   \n",
       "190255         -0.184697           0.382647           0.982075   \n",
       "64558          -1.795391          -2.126832          -2.331081   \n",
       "19664           0.806500           0.493325           0.442053   \n",
       "2740            0.682600           0.061813           1.011534   \n",
       "\n",
       "        log(reimb2008+ 1)  race_Black  race_Hispanic  race_Other  race_White  \n",
       "94448            0.434929           0              0           0           1  \n",
       "82322           -0.152792           0              0           0           1  \n",
       "15975           -2.002770           0              0           0           1  \n",
       "147             -0.907859           0              1           0           0  \n",
       "58640            0.339676           0              0           0           1  \n",
       "...                   ...         ...            ...         ...         ...  \n",
       "171339           0.155698           0              0           0           1  \n",
       "190255          -0.281591           0              0           0           1  \n",
       "64558           -2.002770           1              0           0           0  \n",
       "19664            0.678665           0              0           0           1  \n",
       "2740             0.376522           0              0           0           1  \n",
       "\n",
       "[819158 rows x 31 columns]"
      ]
     },
     "execution_count": 20,
     "metadata": {},
     "output_type": "execute_result"
    }
   ],
   "source": [
    "train_n"
   ]
  },
  {
   "cell_type": "code",
   "execution_count": 22,
   "metadata": {},
   "outputs": [],
   "source": [
    "train_features = train_n.loc[:,'age2010':'race_White'].drop(columns = [\"log(reimb2010+ 1)\"])\n",
    "train_targets = train.loc[:,'log(reimb2010+ 1)']\n",
    "test_features = test_n.loc[:,'age2010':'race_White'].drop(columns = [\"log(reimb2010+ 1)\"])\n",
    "test_targets = test.loc[:,\"log(reimb2010+ 1)\"]"
   ]
  },
  {
   "cell_type": "code",
   "execution_count": 23,
   "metadata": {},
   "outputs": [
    {
     "data": {
      "text/html": [
       "<div>\n",
       "<style scoped>\n",
       "    .dataframe tbody tr th:only-of-type {\n",
       "        vertical-align: middle;\n",
       "    }\n",
       "\n",
       "    .dataframe tbody tr th {\n",
       "        vertical-align: top;\n",
       "    }\n",
       "\n",
       "    .dataframe thead th {\n",
       "        text-align: right;\n",
       "    }\n",
       "</style>\n",
       "<table border=\"1\" class=\"dataframe\">\n",
       "  <thead>\n",
       "    <tr style=\"text-align: right;\">\n",
       "      <th></th>\n",
       "      <th>age2010</th>\n",
       "      <th>male</th>\n",
       "      <th>heart.failure</th>\n",
       "      <th>kidney</th>\n",
       "      <th>cancer</th>\n",
       "      <th>copd</th>\n",
       "      <th>depression</th>\n",
       "      <th>diabetes</th>\n",
       "      <th>ihd</th>\n",
       "      <th>osteoporosis</th>\n",
       "      <th>...</th>\n",
       "      <th>Ambulance</th>\n",
       "      <th>acuity</th>\n",
       "      <th>costTrend</th>\n",
       "      <th>monthsWithClaims</th>\n",
       "      <th>log(reimb2009+ 1)</th>\n",
       "      <th>log(reimb2008+ 1)</th>\n",
       "      <th>race_Black</th>\n",
       "      <th>race_Hispanic</th>\n",
       "      <th>race_Other</th>\n",
       "      <th>race_White</th>\n",
       "    </tr>\n",
       "  </thead>\n",
       "  <tbody>\n",
       "    <tr>\n",
       "      <th>94448</th>\n",
       "      <td>72</td>\n",
       "      <td>1</td>\n",
       "      <td>1</td>\n",
       "      <td>0</td>\n",
       "      <td>0</td>\n",
       "      <td>0</td>\n",
       "      <td>0</td>\n",
       "      <td>1</td>\n",
       "      <td>1</td>\n",
       "      <td>1</td>\n",
       "      <td>...</td>\n",
       "      <td>0</td>\n",
       "      <td>-0.867864</td>\n",
       "      <td>-0.166693</td>\n",
       "      <td>0.930400</td>\n",
       "      <td>0.243788</td>\n",
       "      <td>0.434929</td>\n",
       "      <td>0</td>\n",
       "      <td>0</td>\n",
       "      <td>0</td>\n",
       "      <td>1</td>\n",
       "    </tr>\n",
       "    <tr>\n",
       "      <th>82322</th>\n",
       "      <td>28</td>\n",
       "      <td>0</td>\n",
       "      <td>0</td>\n",
       "      <td>0</td>\n",
       "      <td>0</td>\n",
       "      <td>0</td>\n",
       "      <td>0</td>\n",
       "      <td>0</td>\n",
       "      <td>0</td>\n",
       "      <td>0</td>\n",
       "      <td>...</td>\n",
       "      <td>1</td>\n",
       "      <td>0.369275</td>\n",
       "      <td>-0.506059</td>\n",
       "      <td>-1.051994</td>\n",
       "      <td>-0.311882</td>\n",
       "      <td>-0.152792</td>\n",
       "      <td>0</td>\n",
       "      <td>0</td>\n",
       "      <td>0</td>\n",
       "      <td>1</td>\n",
       "    </tr>\n",
       "    <tr>\n",
       "      <th>15975</th>\n",
       "      <td>83</td>\n",
       "      <td>0</td>\n",
       "      <td>0</td>\n",
       "      <td>0</td>\n",
       "      <td>0</td>\n",
       "      <td>0</td>\n",
       "      <td>0</td>\n",
       "      <td>1</td>\n",
       "      <td>0</td>\n",
       "      <td>0</td>\n",
       "      <td>...</td>\n",
       "      <td>0</td>\n",
       "      <td>-0.220050</td>\n",
       "      <td>2.165657</td>\n",
       "      <td>-1.299793</td>\n",
       "      <td>-0.471269</td>\n",
       "      <td>-2.002770</td>\n",
       "      <td>0</td>\n",
       "      <td>0</td>\n",
       "      <td>0</td>\n",
       "      <td>1</td>\n",
       "    </tr>\n",
       "    <tr>\n",
       "      <th>147</th>\n",
       "      <td>89</td>\n",
       "      <td>0</td>\n",
       "      <td>0</td>\n",
       "      <td>0</td>\n",
       "      <td>0</td>\n",
       "      <td>0</td>\n",
       "      <td>0</td>\n",
       "      <td>0</td>\n",
       "      <td>0</td>\n",
       "      <td>0</td>\n",
       "      <td>...</td>\n",
       "      <td>0</td>\n",
       "      <td>0.307241</td>\n",
       "      <td>0.591755</td>\n",
       "      <td>-1.423693</td>\n",
       "      <td>-0.817075</td>\n",
       "      <td>-0.907859</td>\n",
       "      <td>0</td>\n",
       "      <td>1</td>\n",
       "      <td>0</td>\n",
       "      <td>0</td>\n",
       "    </tr>\n",
       "    <tr>\n",
       "      <th>58640</th>\n",
       "      <td>80</td>\n",
       "      <td>1</td>\n",
       "      <td>1</td>\n",
       "      <td>0</td>\n",
       "      <td>1</td>\n",
       "      <td>1</td>\n",
       "      <td>1</td>\n",
       "      <td>1</td>\n",
       "      <td>1</td>\n",
       "      <td>1</td>\n",
       "      <td>...</td>\n",
       "      <td>2</td>\n",
       "      <td>0.104608</td>\n",
       "      <td>0.626570</td>\n",
       "      <td>0.682600</td>\n",
       "      <td>0.794980</td>\n",
       "      <td>0.339676</td>\n",
       "      <td>0</td>\n",
       "      <td>0</td>\n",
       "      <td>0</td>\n",
       "      <td>1</td>\n",
       "    </tr>\n",
       "    <tr>\n",
       "      <th>...</th>\n",
       "      <td>...</td>\n",
       "      <td>...</td>\n",
       "      <td>...</td>\n",
       "      <td>...</td>\n",
       "      <td>...</td>\n",
       "      <td>...</td>\n",
       "      <td>...</td>\n",
       "      <td>...</td>\n",
       "      <td>...</td>\n",
       "      <td>...</td>\n",
       "      <td>...</td>\n",
       "      <td>...</td>\n",
       "      <td>...</td>\n",
       "      <td>...</td>\n",
       "      <td>...</td>\n",
       "      <td>...</td>\n",
       "      <td>...</td>\n",
       "      <td>...</td>\n",
       "      <td>...</td>\n",
       "      <td>...</td>\n",
       "      <td>...</td>\n",
       "    </tr>\n",
       "    <tr>\n",
       "      <th>171339</th>\n",
       "      <td>54</td>\n",
       "      <td>1</td>\n",
       "      <td>1</td>\n",
       "      <td>0</td>\n",
       "      <td>0</td>\n",
       "      <td>0</td>\n",
       "      <td>0</td>\n",
       "      <td>0</td>\n",
       "      <td>1</td>\n",
       "      <td>1</td>\n",
       "      <td>...</td>\n",
       "      <td>0</td>\n",
       "      <td>-0.765140</td>\n",
       "      <td>-0.408040</td>\n",
       "      <td>0.187002</td>\n",
       "      <td>-0.068686</td>\n",
       "      <td>0.155698</td>\n",
       "      <td>0</td>\n",
       "      <td>0</td>\n",
       "      <td>0</td>\n",
       "      <td>1</td>\n",
       "    </tr>\n",
       "    <tr>\n",
       "      <th>190255</th>\n",
       "      <td>72</td>\n",
       "      <td>0</td>\n",
       "      <td>1</td>\n",
       "      <td>0</td>\n",
       "      <td>0</td>\n",
       "      <td>0</td>\n",
       "      <td>0</td>\n",
       "      <td>1</td>\n",
       "      <td>0</td>\n",
       "      <td>0</td>\n",
       "      <td>...</td>\n",
       "      <td>1</td>\n",
       "      <td>1.344974</td>\n",
       "      <td>0.738402</td>\n",
       "      <td>-0.184697</td>\n",
       "      <td>0.982075</td>\n",
       "      <td>-0.281591</td>\n",
       "      <td>0</td>\n",
       "      <td>0</td>\n",
       "      <td>0</td>\n",
       "      <td>1</td>\n",
       "    </tr>\n",
       "    <tr>\n",
       "      <th>64558</th>\n",
       "      <td>70</td>\n",
       "      <td>0</td>\n",
       "      <td>0</td>\n",
       "      <td>0</td>\n",
       "      <td>0</td>\n",
       "      <td>0</td>\n",
       "      <td>0</td>\n",
       "      <td>0</td>\n",
       "      <td>0</td>\n",
       "      <td>0</td>\n",
       "      <td>...</td>\n",
       "      <td>0</td>\n",
       "      <td>-1.289279</td>\n",
       "      <td>-0.389145</td>\n",
       "      <td>-1.795391</td>\n",
       "      <td>-2.331081</td>\n",
       "      <td>-2.002770</td>\n",
       "      <td>1</td>\n",
       "      <td>0</td>\n",
       "      <td>0</td>\n",
       "      <td>0</td>\n",
       "    </tr>\n",
       "    <tr>\n",
       "      <th>19664</th>\n",
       "      <td>68</td>\n",
       "      <td>0</td>\n",
       "      <td>1</td>\n",
       "      <td>0</td>\n",
       "      <td>0</td>\n",
       "      <td>0</td>\n",
       "      <td>0</td>\n",
       "      <td>1</td>\n",
       "      <td>1</td>\n",
       "      <td>1</td>\n",
       "      <td>...</td>\n",
       "      <td>1</td>\n",
       "      <td>-0.405040</td>\n",
       "      <td>-1.434122</td>\n",
       "      <td>0.806500</td>\n",
       "      <td>0.442053</td>\n",
       "      <td>0.678665</td>\n",
       "      <td>0</td>\n",
       "      <td>0</td>\n",
       "      <td>0</td>\n",
       "      <td>1</td>\n",
       "    </tr>\n",
       "    <tr>\n",
       "      <th>2740</th>\n",
       "      <td>79</td>\n",
       "      <td>0</td>\n",
       "      <td>0</td>\n",
       "      <td>0</td>\n",
       "      <td>0</td>\n",
       "      <td>0</td>\n",
       "      <td>1</td>\n",
       "      <td>1</td>\n",
       "      <td>1</td>\n",
       "      <td>1</td>\n",
       "      <td>...</td>\n",
       "      <td>0</td>\n",
       "      <td>1.640480</td>\n",
       "      <td>1.299868</td>\n",
       "      <td>0.682600</td>\n",
       "      <td>1.011534</td>\n",
       "      <td>0.376522</td>\n",
       "      <td>0</td>\n",
       "      <td>0</td>\n",
       "      <td>0</td>\n",
       "      <td>1</td>\n",
       "    </tr>\n",
       "  </tbody>\n",
       "</table>\n",
       "<p>819158 rows × 30 columns</p>\n",
       "</div>"
      ],
      "text/plain": [
       "        age2010  male  heart.failure  kidney  cancer  copd  depression  \\\n",
       "94448        72     1              1       0       0     0           0   \n",
       "82322        28     0              0       0       0     0           0   \n",
       "15975        83     0              0       0       0     0           0   \n",
       "147          89     0              0       0       0     0           0   \n",
       "58640        80     1              1       0       1     1           1   \n",
       "...         ...   ...            ...     ...     ...   ...         ...   \n",
       "171339       54     1              1       0       0     0           0   \n",
       "190255       72     0              1       0       0     0           0   \n",
       "64558        70     0              0       0       0     0           0   \n",
       "19664        68     0              1       0       0     0           0   \n",
       "2740         79     0              0       0       0     0           1   \n",
       "\n",
       "        diabetes  ihd  osteoporosis  ...  Ambulance    acuity  costTrend  \\\n",
       "94448          1    1             1  ...          0 -0.867864  -0.166693   \n",
       "82322          0    0             0  ...          1  0.369275  -0.506059   \n",
       "15975          1    0             0  ...          0 -0.220050   2.165657   \n",
       "147            0    0             0  ...          0  0.307241   0.591755   \n",
       "58640          1    1             1  ...          2  0.104608   0.626570   \n",
       "...          ...  ...           ...  ...        ...       ...        ...   \n",
       "171339         0    1             1  ...          0 -0.765140  -0.408040   \n",
       "190255         1    0             0  ...          1  1.344974   0.738402   \n",
       "64558          0    0             0  ...          0 -1.289279  -0.389145   \n",
       "19664          1    1             1  ...          1 -0.405040  -1.434122   \n",
       "2740           1    1             1  ...          0  1.640480   1.299868   \n",
       "\n",
       "        monthsWithClaims  log(reimb2009+ 1)  log(reimb2008+ 1)  race_Black  \\\n",
       "94448           0.930400           0.243788           0.434929           0   \n",
       "82322          -1.051994          -0.311882          -0.152792           0   \n",
       "15975          -1.299793          -0.471269          -2.002770           0   \n",
       "147            -1.423693          -0.817075          -0.907859           0   \n",
       "58640           0.682600           0.794980           0.339676           0   \n",
       "...                  ...                ...                ...         ...   \n",
       "171339          0.187002          -0.068686           0.155698           0   \n",
       "190255         -0.184697           0.982075          -0.281591           0   \n",
       "64558          -1.795391          -2.331081          -2.002770           1   \n",
       "19664           0.806500           0.442053           0.678665           0   \n",
       "2740            0.682600           1.011534           0.376522           0   \n",
       "\n",
       "        race_Hispanic  race_Other  race_White  \n",
       "94448               0           0           1  \n",
       "82322               0           0           1  \n",
       "15975               0           0           1  \n",
       "147                 1           0           0  \n",
       "58640               0           0           1  \n",
       "...               ...         ...         ...  \n",
       "171339              0           0           1  \n",
       "190255              0           0           1  \n",
       "64558               0           0           0  \n",
       "19664               0           0           1  \n",
       "2740                0           0           1  \n",
       "\n",
       "[819158 rows x 30 columns]"
      ]
     },
     "execution_count": 23,
     "metadata": {},
     "output_type": "execute_result"
    }
   ],
   "source": [
    "train_features"
   ]
  },
  {
   "cell_type": "code",
   "execution_count": 24,
   "metadata": {},
   "outputs": [],
   "source": [
    "ev = {}"
   ]
  },
  {
   "cell_type": "markdown",
   "metadata": {},
   "source": [
    "## Lasso Regression"
   ]
  },
  {
   "cell_type": "code",
   "execution_count": 25,
   "metadata": {},
   "outputs": [],
   "source": [
    "def metrics(target_predict,test_targets,train_features,train_targets,regr,output=True):\n",
    "    \n",
    "    bias = mean_squared_error(regr.predict(train_features),train_targets)\n",
    "    mse = mean_squared_error(target_predict,test_targets)\n",
    "    rss = np.sum((target_predict - test_targets) ** 2)\n",
    "    variance = regr.score(train_features, train_targets)\n",
    "    \n",
    "    if output:\n",
    "        print(\"Bias: %.2f\" % bias)   \n",
    "        print(\"Mean squared error: %.2f\" % mse)\n",
    "        print(\"RSS: %.2f\" % rss)\n",
    "        print('Variance score: %.2f\\n' % variance)\n",
    "    \n",
    "    return(bias,mse,rss,variance)"
   ]
  },
  {
   "cell_type": "code",
   "execution_count": 26,
   "metadata": {},
   "outputs": [
    {
     "name": "stdout",
     "output_type": "stream",
     "text": [
      "['age2010', 'male', 'heart.failure', 'kidney', 'cancer', 'copd', 'depression', 'diabetes', 'ihd', 'osteoporosis', 'arthritis', 'stroke', 'InpatientClaims', 'OutpatientClaims', 'OfficeVisit', 'EyeExam', 'EKG', 'xray', 'CTScan', 'PhysicalTherapy', 'Ambulance', 'acuity', 'costTrend', 'monthsWithClaims', 'log(reimb2009+ 1)', 'log(reimb2008+ 1)', 'race_Black', 'race_Hispanic', 'race_Other', 'race_White'] \n",
      "\n",
      "\n",
      "[ 0.         -0.          0.          0.          0.          0.\n",
      "  0.          0.          0.          0.          0.          0.\n",
      "  0.          0.03623872  0.05931384  0.          0.          0.\n",
      "  0.          0.          0.          0.          0.          0.\n",
      "  0.          0.         -0.         -0.         -0.          0.        ]\n",
      "\n"
     ]
    }
   ],
   "source": [
    "print(list(train_features), '\\n\\n')\n",
    "ls = linear_model.Lasso(alpha=0.5)\n",
    "ls.fit(train_features,train_targets)\n",
    "target_predict = ls.predict(test_features)\n",
    "print('{}\\n'.format(ls.coef_))"
   ]
  },
  {
   "cell_type": "code",
   "execution_count": 27,
   "metadata": {},
   "outputs": [
    {
     "name": "stdout",
     "output_type": "stream",
     "text": [
      "Bias: 1.03\n",
      "Mean squared error: 1.03\n",
      "RSS: 211706.74\n",
      "Variance score: 0.34\n",
      "\n"
     ]
    }
   ],
   "source": [
    "ev[\"Lasso\"] = metrics(target_predict,test_targets,train_features,train_targets,ls)"
   ]
  },
  {
   "cell_type": "code",
   "execution_count": 28,
   "metadata": {},
   "outputs": [],
   "source": [
    "coefs = ls.coef_"
   ]
  },
  {
   "cell_type": "code",
   "execution_count": 29,
   "metadata": {},
   "outputs": [],
   "source": [
    "train_features_cols = list(train_features)"
   ]
  },
  {
   "cell_type": "code",
   "execution_count": 30,
   "metadata": {},
   "outputs": [],
   "source": [
    "coef_results = pd.DataFrame.from_dict(dict(zip(train_features_cols, coefs)), orient = \"index\", columns = [\"Coef\"]).reset_index()"
   ]
  },
  {
   "cell_type": "code",
   "execution_count": 31,
   "metadata": {},
   "outputs": [],
   "source": [
    "coef_results.rename(columns = {\"index\": \"variable\"}, inplace = True)"
   ]
  },
  {
   "cell_type": "code",
   "execution_count": 34,
   "metadata": {},
   "outputs": [
    {
     "data": {
      "text/plain": [
       "Text(0, 0.5, 'Coefficent')"
      ]
     },
     "execution_count": 34,
     "metadata": {},
     "output_type": "execute_result"
    },
    {
     "data": {
      "image/png": "[encoded data removed]",
      "text/plain": [
       "<Figure size 842.4x595.44 with 1 Axes>"
      ]
     },
     "metadata": {},
     "output_type": "display_data"
    }
   ],
   "source": [
    "sns.set(rc={'figure.figsize':(11.7,8.27)})\n",
    "sns.barplot(y = \"variable\", x = \"Coef\", data = coef_results)\n",
    "plt.xlabel(\"Variable\", size=15)\n",
    "plt.ylabel(\"Coefficent\", size=15)"
   ]
  },
  {
   "cell_type": "markdown",
   "metadata": {},
   "source": [
    "## Ridge Regression"
   ]
  },
  {
   "cell_type": "code",
   "execution_count": 35,
   "metadata": {},
   "outputs": [
    {
     "name": "stdout",
     "output_type": "stream",
     "text": [
      "['age2010', 'male', 'heart.failure', 'kidney', 'cancer', 'copd', 'depression', 'diabetes', 'ihd', 'osteoporosis', 'arthritis', 'stroke', 'InpatientClaims', 'OutpatientClaims', 'OfficeVisit', 'EyeExam', 'EKG', 'xray', 'CTScan', 'PhysicalTherapy', 'Ambulance', 'acuity', 'costTrend', 'monthsWithClaims', 'log(reimb2009+ 1)', 'log(reimb2008+ 1)', 'race_Black', 'race_Hispanic', 'race_Other', 'race_White'] \n",
      "\n",
      "\n",
      "[ 5.04948084e-04 -8.16573957e-03  2.76277540e-03 -1.25265517e-02\n",
      " -1.74380227e-02 -4.47326045e-03  4.55079303e-04  3.58752628e-02\n",
      "  3.73462405e-02 -3.40113413e-04 -6.44989548e-04 -3.14314783e-02\n",
      " -7.82345574e-02 -2.43820968e-03 -6.72767950e-03 -1.12033899e-02\n",
      " -2.42868477e-03 -2.66482687e-03 -1.43633022e-03 -1.87608313e-03\n",
      "  1.53758306e-03 -1.05275368e-01  6.44848821e-02  3.09457421e-01\n",
      "  4.62662331e-01  3.37586263e-01 -3.88316052e-03 -4.81424851e-03\n",
      " -7.94211098e-03  1.66395188e-02]\n",
      "\n"
     ]
    }
   ],
   "source": [
    "print(list(train_features), '\\n\\n')\n",
    "rg = linear_model.Ridge(alpha=0.5)\n",
    "rg.fit(train_features,train_targets)\n",
    "target_predict = rg.predict(test_features)\n",
    "print('{}\\n'.format(rg.coef_))"
   ]
  },
  {
   "cell_type": "code",
   "execution_count": 36,
   "metadata": {},
   "outputs": [],
   "source": [
    "coefs_r = rg.coef_"
   ]
  },
  {
   "cell_type": "code",
   "execution_count": 37,
   "metadata": {},
   "outputs": [],
   "source": [
    "coef_results_r = pd.DataFrame.from_dict(dict(zip(train_features_cols, coefs_r)),\n",
    "                                        orient = \"index\", columns = [\"Coef\"]).reset_index()"
   ]
  },
  {
   "cell_type": "code",
   "execution_count": 38,
   "metadata": {},
   "outputs": [],
   "source": [
    "coef_results_r.rename(columns = {\"index\": \"variable\"}, inplace = True)"
   ]
  },
  {
   "cell_type": "code",
   "execution_count": 39,
   "metadata": {},
   "outputs": [
    {
     "data": {
      "text/plain": [
       "Text(0, 0.5, 'Coefficent')"
      ]
     },
     "execution_count": 39,
     "metadata": {},
     "output_type": "execute_result"
    },
    {
     "data": {
      "image/png": "[encoded data removed]",
      "text/plain": [
       "<Figure size 842.4x595.44 with 1 Axes>"
      ]
     },
     "metadata": {},
     "output_type": "display_data"
    }
   ],
   "source": [
    "sns.set(rc={'figure.figsize':(11.7,8.27)})\n",
    "sns.barplot(y = \"variable\", x = \"Coef\", data = coef_results_r)\n",
    "plt.xlabel(\"Variable\", size=15)\n",
    "plt.ylabel(\"Coefficent\", size=15)"
   ]
  },
  {
   "cell_type": "code",
   "execution_count": 40,
   "metadata": {},
   "outputs": [
    {
     "name": "stdout",
     "output_type": "stream",
     "text": [
      "Bias: 0.61\n",
      "Mean squared error: 0.61\n",
      "RSS: 125466.20\n",
      "Variance score: 0.61\n",
      "\n"
     ]
    }
   ],
   "source": [
    "ev[\"Ridge\"] = metrics(target_predict,test_targets,train_features,train_targets,rg)"
   ]
  },
  {
   "cell_type": "markdown",
   "metadata": {},
   "source": [
    "## Elastic Net"
   ]
  },
  {
   "cell_type": "code",
   "execution_count": 41,
   "metadata": {},
   "outputs": [
    {
     "name": "stdout",
     "output_type": "stream",
     "text": [
      "['age2010', 'male', 'heart.failure', 'kidney', 'cancer', 'copd', 'depression', 'diabetes', 'ihd', 'osteoporosis', 'arthritis', 'stroke', 'InpatientClaims', 'OutpatientClaims', 'OfficeVisit', 'EyeExam', 'EKG', 'xray', 'CTScan', 'PhysicalTherapy', 'Ambulance', 'acuity', 'costTrend', 'monthsWithClaims', 'log(reimb2009+ 1)', 'log(reimb2008+ 1)', 'race_Black', 'race_Hispanic', 'race_Other', 'race_White'] \n",
      "\n",
      "\n",
      "[ 0.         -0.          0.          0.          0.          0.\n",
      "  0.          0.          0.          0.          0.          0.\n",
      " -0.          0.02627843  0.04104275  0.          0.          0.\n",
      "  0.          0.         -0.         -0.          0.          0.0391445\n",
      "  0.19584288  0.08578994 -0.         -0.         -0.          0.        ]\n",
      "\n"
     ]
    }
   ],
   "source": [
    "print(list(train_features), '\\n\\n')\n",
    "en = linear_model.ElasticNet(alpha=0.5)\n",
    "en.fit(train_features,train_targets)\n",
    "target_predict = en.predict(test_features)\n",
    "print('{}\\n'.format(en.coef_))"
   ]
  },
  {
   "cell_type": "code",
   "execution_count": 42,
   "metadata": {},
   "outputs": [],
   "source": [
    "coefs_en = en.coef_"
   ]
  },
  {
   "cell_type": "code",
   "execution_count": 43,
   "metadata": {},
   "outputs": [],
   "source": [
    "coef_results_en = pd.DataFrame.from_dict(dict(zip(train_features_cols, coefs_en)),\n",
    "                                         orient = \"index\", columns = [\"Coef\"]).reset_index()"
   ]
  },
  {
   "cell_type": "code",
   "execution_count": 44,
   "metadata": {},
   "outputs": [],
   "source": [
    "coef_results_en.rename(columns = {\"index\": \"variable\"}, inplace = True)"
   ]
  },
  {
   "cell_type": "code",
   "execution_count": 45,
   "metadata": {},
   "outputs": [
    {
     "data": {
      "text/plain": [
       "Text(0, 0.5, 'Coefficent')"
      ]
     },
     "execution_count": 45,
     "metadata": {},
     "output_type": "execute_result"
    },
    {
     "data": {
      "image/png": "[encoded data removed]",
      "text/plain": [
       "<Figure size 842.4x595.44 with 1 Axes>"
      ]
     },
     "metadata": {},
     "output_type": "display_data"
    }
   ],
   "source": [
    "sns.set(rc={'figure.figsize':(11.7,8.27)})\n",
    "sns.barplot(y = \"variable\", x = \"Coef\", data = coef_results_en)\n",
    "plt.xlabel(\"Variable\", size=15)\n",
    "plt.ylabel(\"Coefficent\", size=15)"
   ]
  },
  {
   "cell_type": "code",
   "execution_count": 46,
   "metadata": {},
   "outputs": [
    {
     "name": "stdout",
     "output_type": "stream",
     "text": [
      "Bias: 0.82\n",
      "Mean squared error: 0.82\n",
      "RSS: 168616.51\n",
      "Variance score: 0.47\n",
      "\n"
     ]
    }
   ],
   "source": [
    "ev[\"Elastic Net\"] = metrics(target_predict,test_targets,train_features,train_targets,en)"
   ]
  },
  {
   "cell_type": "code",
   "execution_count": 47,
   "metadata": {},
   "outputs": [
    {
     "data": {
      "image/png": "[encoded data removed]",
      "text/plain": [
       "<Figure size 720x360 with 1 Axes>"
      ]
     },
     "metadata": {},
     "output_type": "display_data"
    }
   ],
   "source": [
    "plt.rcParams['figure.figsize'] = [10, 5]\n",
    "\n",
    "mdf = pd.DataFrame(ev).transpose()\n",
    "\n",
    "mdf.index.name = 'Type'\n",
    "mdf.rename(columns={0:'Bias',1:'MSE',2:'RSS',3:'Variance'},inplace=True)\n",
    "mdf.sort_values(by=['Bias'],inplace=True)\n",
    "\n",
    "labels = mdf.index.values\n",
    "x = np.arange(len(labels))\n",
    "width = 0.35  \n",
    "\n",
    "fix, ax = plt.subplots()\n",
    "rects = ax.bar(x - width/3, mdf['Bias'], width/3, label='Bias')\n",
    "rects = ax.bar(x, mdf['Variance'], width/3, label='Variance')\n",
    "rects = ax.bar(x + width/3, mdf['MSE'], width/3, label='MSE')\n",
    "\n",
    "ax.set_xticks(x)\n",
    "ax.set_xticklabels(labels, rotation=45)\n",
    "ax.legend()\n",
    "plt.show()"
   ]
  },
  {
   "cell_type": "code",
   "execution_count": null,
   "metadata": {},
   "outputs": [],
   "source": []
  }
 ],
 "metadata": {
  "kernelspec": {
   "display_name": "Python 3",
   "language": "python",
   "name": "python3"
  },
  "language_info": {
   "codemirror_mode": {
    "name": "ipython",
    "version": 3
   },
   "file_extension": ".py",
   "mimetype": "text/x-python",
   "name": "python",
   "nbconvert_exporter": "python",
   "pygments_lexer": "ipython3",
   "version": "3.8.5"
  }
 },
 "nbformat": 4,
 "nbformat_minor": 4
}
